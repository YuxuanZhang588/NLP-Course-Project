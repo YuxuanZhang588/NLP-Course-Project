{
 "cells": [
  {
   "cell_type": "markdown",
   "metadata": {},
   "source": [
    "# Homework 3\n",
    "### Yuxuan Zhang"
   ]
  },
  {
   "cell_type": "markdown",
   "metadata": {},
   "source": [
    "### For this model, we have the following assumptions:\n",
    "- Every word in the 'count_1w.txt' file is correct.\n",
    "- Only one edit is needed in each incorrect word not including transposition.\n",
    "- Weighted cost for edits are derived from the emprical data (additions.csv, deletions.csv, substitutions.csv).\n",
    "- Words that do not appear in the dictionary ('count_1w.txt') are considered incorrect."
   ]
  },
  {
   "cell_type": "markdown",
   "metadata": {},
   "source": [
    "### Here are some cases where the correction works:"
   ]
  },
  {
   "cell_type": "code",
   "execution_count": 1,
   "metadata": {},
   "outputs": [
    {
     "name": "stdout",
     "output_type": "stream",
     "text": [
      "business\n",
      "intelligence\n",
      "bible\n",
      "homework\n",
      "basketball\n",
      "superhero\n",
      "correct\n",
      "beautiful\n",
      "condescending\n",
      "population\n",
      "amazon\n"
     ]
    }
   ],
   "source": [
    "from HW3 import correct\n",
    "# Deletion\n",
    "print(correct('buesiness'))\n",
    "print(correct('intellligence'))\n",
    "print(correct('bpble'))\n",
    "print(correct('homwork'))\n",
    "print(correct('basket ball'))\n",
    "# Substitution\n",
    "print(correct('superheio'))\n",
    "print(correct('corrett'))\n",
    "print(correct('beausiful'))\n",
    "# Insertion\n",
    "print(correct('condesending'))\n",
    "print(correct('populatio'))\n",
    "print(correct('amazn'))"
   ]
  },
  {
   "cell_type": "markdown",
   "metadata": {},
   "source": [
    "### Here are some cases where the correction does not work"
   ]
  },
  {
   "cell_type": "markdown",
   "metadata": {},
   "source": [
    "##### Words with multiple valid edits"
   ]
  },
  {
   "cell_type": "code",
   "execution_count": 2,
   "metadata": {},
   "outputs": [
    {
     "name": "stdout",
     "output_type": "stream",
     "text": [
      "spelling\n",
      "I meant to spell speeding.\n"
     ]
    }
   ],
   "source": [
    "print(correct('speeling'))\n",
    "print(\"I meant to spell speeding.\")"
   ]
  },
  {
   "cell_type": "markdown",
   "metadata": {},
   "source": [
    "##### Words with error that needs more than two edits"
   ]
  },
  {
   "cell_type": "code",
   "execution_count": 3,
   "metadata": {},
   "outputs": [
    {
     "name": "stdout",
     "output_type": "stream",
     "text": [
      "beyasian\n",
      "condscanding\n"
     ]
    }
   ],
   "source": [
    "print(correct('beyasian'))\n",
    "print(correct('condscanding'))"
   ]
  },
  {
   "cell_type": "markdown",
   "metadata": {},
   "source": [
    "##### Words that are not included in the dictionary."
   ]
  },
  {
   "cell_type": "code",
   "execution_count": 4,
   "metadata": {},
   "outputs": [
    {
     "name": "stdout",
     "output_type": "stream",
     "text": [
      "trikont\n",
      "This should be taikonaut\n",
      "\n",
      "pneumonoultramicroscopicsilcovolcanoconiosis\n",
      "This should be pneumonoultramicroscopicsilicovolcanoconiosis, a term in biology\n"
     ]
    }
   ],
   "source": [
    "print(correct('taikont'))\n",
    "print('This should be taikonaut\\n')\n",
    "\n",
    "print(correct('pneumonoultramicroscopicsilcovolcanoconiosis'))\n",
    "print('This should be pneumonoultramicroscopicsilicovolcanoconiosis, a term in biology')"
   ]
  },
  {
   "cell_type": "markdown",
   "metadata": {},
   "source": [
    "##### The actually incorrect word is included in the dictionary"
   ]
  },
  {
   "cell_type": "code",
   "execution_count": 5,
   "metadata": {},
   "outputs": [
    {
     "name": "stdout",
     "output_type": "stream",
     "text": [
      "True\n",
      "True\n",
      "inteligence\n",
      "heirarchy\n"
     ]
    }
   ],
   "source": [
    "freq_dict = {}\n",
    "with open('count_1w.txt', mode='r') as f:\n",
    "    for line in f:\n",
    "            parts = line.split()\n",
    "            freq_dict[parts[0]] = int(parts[1])\n",
    "print('inteligence' in freq_dict)\n",
    "print('heirarchy' in freq_dict)\n",
    "\n",
    "print(correct('inteligence'))\n",
    "print(correct('heirarchy'))\n"
   ]
  },
  {
   "cell_type": "markdown",
   "metadata": {},
   "source": [
    "#### Explaining the poor judgements and future improvements of this model:\n",
    "- For words with multiple valid edits, the poor judgements is because our model does not take the surrounding text into consideration. We will need a more complicated model that can take the surrounding text as extra information and use this as another layer of prior to calculate the probabilities of each candidates.\n",
    "- Words that does not have the correct form in the dictionary. To improve this, we will have to use a larger dictionary with a comprehensive set of words.\n",
    "- For edits with more than one edits, it is not supported by this model. To implement a model with multiple edits, we will need to rewrite the generate candidate part, where candidates with multiple edits will be added.\n",
    "- For incorrect words in the dictionary, we will need to make sure the source of the dictionary and each word inside is correct"
   ]
  }
 ],
 "metadata": {
  "kernelspec": {
   "display_name": "Python 3",
   "language": "python",
   "name": "python3"
  },
  "language_info": {
   "codemirror_mode": {
    "name": "ipython",
    "version": 3
   },
   "file_extension": ".py",
   "mimetype": "text/x-python",
   "name": "python",
   "nbconvert_exporter": "python",
   "pygments_lexer": "ipython3",
   "version": "3.11.9"
  }
 },
 "nbformat": 4,
 "nbformat_minor": 2
}
