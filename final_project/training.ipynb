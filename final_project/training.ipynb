{
 "cells": [
  {
   "cell_type": "code",
   "execution_count": 1,
   "metadata": {},
   "outputs": [],
   "source": [
    "import json\n",
    "import numpy as np\n",
    "import ast\n",
    "import torch\n",
    "import pandas as pd\n",
    "from datasets import load_dataset, DatasetDict, Dataset, load_from_disk\n",
    "from transformers import AutoTokenizer, AutoModelForTokenClassification, Trainer, TrainingArguments\n",
    "from sklearn.model_selection import train_test_split\n",
    "from typing import List, Dict\n",
    "from collections import defaultdict\n",
    "from fuzzywuzzy import process\n",
    "from nltk.util import ngrams\n",
    "from wordcloud import WordCloud\n",
    "import matplotlib.pyplot as plt\n",
    "from collections import Counter"
   ]
  },
  {
   "cell_type": "markdown",
   "metadata": {},
   "source": [
    "# Training"
   ]
  },
  {
   "cell_type": "markdown",
   "metadata": {},
   "source": [
    "### Model Specifications"
   ]
  },
  {
   "cell_type": "code",
   "execution_count": 2,
   "metadata": {},
   "outputs": [],
   "source": [
    "label_list = [\n",
    "    \"O\",\n",
    "    \"B-MEDICINE_NAME\",\n",
    "    \"I-MEDICINE_NAME\",\n",
    "    \"B-MEDICINE_DOSAGE\",\n",
    "    \"I-MEDICINE_DOSAGE\",\n",
    "    \"B-MEDICINE_FREQUENCY\",\n",
    "    \"I-MEDICINE_FREQUENCY\",\n",
    "    \"B-COURSE_DURATION\",\n",
    "    \"I-COURSE_DURATION\"\n",
    "]\n",
    "\n",
    "label_to_id = {label: idx for idx, label in enumerate(label_list)}\n",
    "id_to_label = {idx: label for label, idx in label_to_id.items()}\n",
    "\n",
    "num_labels = len(label_list)\n"
   ]
  },
  {
   "cell_type": "markdown",
   "metadata": {},
   "source": [
    "### Loss Function and Metrics Computation"
   ]
  },
  {
   "cell_type": "code",
   "execution_count": 4,
   "metadata": {},
   "outputs": [],
   "source": [
    "from torch.nn import CrossEntropyLoss\n",
    "import torch\n",
    "from transformers import Trainer\n",
    "from sklearn.metrics import precision_recall_fscore_support\n",
    "\n",
    "\n",
    "class WeightedLossTrainer(Trainer):\n",
    "    def compute_loss(self, model, inputs, return_outputs=False, **kwargs):\n",
    "        # Extract labels\n",
    "        labels = inputs.pop(\"labels\").to(model.device)\n",
    "\n",
    "        # Forward pass\n",
    "        outputs = model(**inputs)\n",
    "        logits = outputs.logits\n",
    "\n",
    "        # Define class weights with more severe reweighting\n",
    "        class_weights = torch.tensor(\n",
    "            [1.0, 100.0, 50.0, 200.0, 75.0, 200.0, 100.0, 200.0, 150.0],  # Amplified weights\n",
    "            device=logits.device\n",
    "        )\n",
    "\n",
    "        # Initialize CrossEntropyLoss\n",
    "        loss_fn = CrossEntropyLoss(weight=class_weights, ignore_index=-100)\n",
    "\n",
    "        # Compute loss\n",
    "        logits = logits.view(-1, logits.size(-1))  # Flatten logits\n",
    "        labels = labels.view(-1)  # Flatten labels\n",
    "        loss = loss_fn(logits, labels)\n",
    "\n",
    "        return (loss, outputs) if return_outputs else loss\n",
    "    \n",
    "def compute_metrics(p):\n",
    "    predictions, labels = p\n",
    "    predictions = predictions.argmax(axis=2)\n",
    "\n",
    "    # Remove ignored index (-100) and flatten\n",
    "    true_predictions = [\n",
    "        [id_to_label[pred] for (pred, label) in zip(prediction, label_set) if label != -100]\n",
    "        for prediction, label_set in zip(predictions, labels)\n",
    "    ]\n",
    "    true_labels = [\n",
    "        [id_to_label[label] for (pred, label) in zip(prediction, label_set) if label != -100]\n",
    "        for prediction, label_set in zip(predictions, labels)\n",
    "    ]\n",
    "\n",
    "    precision, recall, f1, _ = precision_recall_fscore_support(\n",
    "        [tag for label in true_labels for tag in label],\n",
    "        [tag for pred in true_predictions for tag in pred],\n",
    "        average=\"weighted\"\n",
    "    )\n",
    "    return {\n",
    "        \"precision\": precision,\n",
    "        \"recall\": recall,\n",
    "        \"f1\": f1\n",
    "    }"
   ]
  },
  {
   "cell_type": "markdown",
   "metadata": {},
   "source": [
    "In this implementation, we customized the loss function and evaluation metrics to better handle imbalanced data. Specifically, we used a weighted cross-entropy loss in the `WeightedLossTrainer` class, where class weights were manually defined to amplify the importance of underrepresented classes. This ensures the model pays more attention to these classes during training, mitigating the risk of bias towards the majority class. \n",
    "\n",
    "For metrics, we defined a `compute_metrics` function that calculates precision, recall, and F1 score with a weighted average. This approach evaluates model performance while accounting for class imbalances, ensuring the metrics reflect the contributions of all classes proportionally. Additionally, ignored labels (e.g., `-100`) were excluded from both loss computation and metric evaluation."
   ]
  },
  {
   "cell_type": "markdown",
   "metadata": {},
   "source": [
    "### Training with dataset1"
   ]
  },
  {
   "cell_type": "code",
   "execution_count": 32,
   "metadata": {},
   "outputs": [],
   "source": [
    "tokenized_dataset1 = load_from_disk('dataset1_512')\n",
    "split_dataset = tokenized_dataset1.train_test_split(test_size=0.2)\n",
    "train_and_val_dataset = split_dataset['train']\n",
    "test_dataset = split_dataset['test']\n",
    "train_val_split = train_and_val_dataset.train_test_split(test_size=0.25, seed=42)\n",
    "train_dataset = train_val_split['train']\n",
    "val_dataset = train_val_split['test']"
   ]
  },
  {
   "cell_type": "code",
   "execution_count": 64,
   "metadata": {},
   "outputs": [
    {
     "name": "stderr",
     "output_type": "stream",
     "text": [
      "Some weights of BertForTokenClassification were not initialized from the model checkpoint at bert-base-uncased and are newly initialized: ['classifier.bias', 'classifier.weight']\n",
      "You should probably TRAIN this model on a down-stream task to be able to use it for predictions and inference.\n",
      "C:\\Users\\LEGION\\AppData\\Local\\Packages\\PythonSoftwareFoundation.Python.3.11_qbz5n2kfra8p0\\LocalCache\\local-packages\\Python311\\site-packages\\transformers\\training_args.py:1568: FutureWarning: `evaluation_strategy` is deprecated and will be removed in version 4.46 of 🤗 Transformers. Use `eval_strategy` instead\n",
      "  warnings.warn(\n",
      "C:\\Users\\LEGION\\AppData\\Local\\Temp\\ipykernel_44568\\2442855680.py:25: FutureWarning: `tokenizer` is deprecated and will be removed in version 5.0.0 for `WeightedLossTrainer.__init__`. Use `processing_class` instead.\n",
      "  trainer = WeightedLossTrainer(\n"
     ]
    },
    {
     "data": {
      "application/vnd.jupyter.widget-view+json": {
       "model_id": "fb45a6f6429b48108c98ad4f627bae87",
       "version_major": 2,
       "version_minor": 0
      },
      "text/plain": [
       "  0%|          | 0/2375 [00:00<?, ?it/s]"
      ]
     },
     "metadata": {},
     "output_type": "display_data"
    },
    {
     "name": "stdout",
     "output_type": "stream",
     "text": [
      "{'loss': 1.4205, 'grad_norm': 3.8504650592803955, 'learning_rate': 4.978947368421053e-05, 'epoch': 0.02}\n",
      "{'loss': 1.0832, 'grad_norm': 3.424929618835449, 'learning_rate': 4.9578947368421055e-05, 'epoch': 0.04}\n",
      "{'loss': 0.9997, 'grad_norm': 1.1077806949615479, 'learning_rate': 4.936842105263158e-05, 'epoch': 0.06}\n",
      "{'loss': 1.0143, 'grad_norm': 6.674701690673828, 'learning_rate': 4.915789473684211e-05, 'epoch': 0.08}\n",
      "{'loss': 0.9354, 'grad_norm': 3.2465174198150635, 'learning_rate': 4.8947368421052635e-05, 'epoch': 0.11}\n",
      "{'loss': 0.9086, 'grad_norm': 1.7735705375671387, 'learning_rate': 4.873684210526316e-05, 'epoch': 0.13}\n",
      "{'loss': 0.8975, 'grad_norm': 2.5437581539154053, 'learning_rate': 4.852631578947369e-05, 'epoch': 0.15}\n",
      "{'loss': 0.8713, 'grad_norm': 3.483523368835449, 'learning_rate': 4.8315789473684215e-05, 'epoch': 0.17}\n",
      "{'loss': 0.8402, 'grad_norm': 2.26413631439209, 'learning_rate': 4.8105263157894735e-05, 'epoch': 0.19}\n",
      "{'loss': 0.934, 'grad_norm': 2.673743963241577, 'learning_rate': 4.789473684210526e-05, 'epoch': 0.21}\n",
      "{'loss': 0.9046, 'grad_norm': 1.8859964609146118, 'learning_rate': 4.7684210526315794e-05, 'epoch': 0.23}\n",
      "{'loss': 0.8564, 'grad_norm': 2.507366895675659, 'learning_rate': 4.747368421052632e-05, 'epoch': 0.25}\n",
      "{'loss': 0.9484, 'grad_norm': 8.015737533569336, 'learning_rate': 4.726315789473684e-05, 'epoch': 0.27}\n",
      "{'loss': 0.9505, 'grad_norm': 1.9097309112548828, 'learning_rate': 4.705263157894737e-05, 'epoch': 0.29}\n",
      "{'loss': 0.8861, 'grad_norm': 2.5672879219055176, 'learning_rate': 4.68421052631579e-05, 'epoch': 0.32}\n",
      "{'loss': 0.8654, 'grad_norm': 3.265105962753296, 'learning_rate': 4.663157894736842e-05, 'epoch': 0.34}\n",
      "{'loss': 0.8211, 'grad_norm': 6.7433247566223145, 'learning_rate': 4.642105263157895e-05, 'epoch': 0.36}\n",
      "{'loss': 0.8744, 'grad_norm': 1.597164511680603, 'learning_rate': 4.6210526315789473e-05, 'epoch': 0.38}\n",
      "{'loss': 0.8583, 'grad_norm': 4.028315544128418, 'learning_rate': 4.600000000000001e-05, 'epoch': 0.4}\n",
      "{'loss': 0.7778, 'grad_norm': 2.009782075881958, 'learning_rate': 4.5789473684210527e-05, 'epoch': 0.42}\n",
      "{'loss': 0.7871, 'grad_norm': 3.4206836223602295, 'learning_rate': 4.557894736842105e-05, 'epoch': 0.44}\n",
      "{'loss': 0.8235, 'grad_norm': 1.5785868167877197, 'learning_rate': 4.536842105263158e-05, 'epoch': 0.46}\n",
      "{'loss': 0.8468, 'grad_norm': 3.620976686477661, 'learning_rate': 4.515789473684211e-05, 'epoch': 0.48}\n",
      "{'loss': 0.8407, 'grad_norm': 3.3897032737731934, 'learning_rate': 4.494736842105263e-05, 'epoch': 0.51}\n",
      "{'loss': 0.8305, 'grad_norm': 1.562610387802124, 'learning_rate': 4.473684210526316e-05, 'epoch': 0.53}\n",
      "{'loss': 0.7547, 'grad_norm': 5.588344573974609, 'learning_rate': 4.4526315789473686e-05, 'epoch': 0.55}\n",
      "{'loss': 0.7624, 'grad_norm': 1.6248914003372192, 'learning_rate': 4.431578947368421e-05, 'epoch': 0.57}\n",
      "{'loss': 0.8103, 'grad_norm': 3.6170787811279297, 'learning_rate': 4.410526315789474e-05, 'epoch': 0.59}\n",
      "{'loss': 0.8037, 'grad_norm': 4.053567409515381, 'learning_rate': 4.3894736842105266e-05, 'epoch': 0.61}\n",
      "{'loss': 0.7882, 'grad_norm': 2.1056957244873047, 'learning_rate': 4.368421052631579e-05, 'epoch': 0.63}\n",
      "{'loss': 0.7212, 'grad_norm': 4.09744119644165, 'learning_rate': 4.347368421052632e-05, 'epoch': 0.65}\n",
      "{'loss': 0.79, 'grad_norm': 3.8935000896453857, 'learning_rate': 4.3263157894736845e-05, 'epoch': 0.67}\n",
      "{'loss': 0.7531, 'grad_norm': 2.0717926025390625, 'learning_rate': 4.305263157894737e-05, 'epoch': 0.69}\n",
      "{'loss': 0.8048, 'grad_norm': 2.544757604598999, 'learning_rate': 4.284210526315789e-05, 'epoch': 0.72}\n",
      "{'loss': 0.7409, 'grad_norm': 5.128056526184082, 'learning_rate': 4.2631578947368425e-05, 'epoch': 0.74}\n",
      "{'loss': 0.7851, 'grad_norm': 1.959643006324768, 'learning_rate': 4.242105263157895e-05, 'epoch': 0.76}\n",
      "{'loss': 0.7888, 'grad_norm': 2.490471601486206, 'learning_rate': 4.221052631578948e-05, 'epoch': 0.78}\n",
      "{'loss': 0.7183, 'grad_norm': 1.508020043373108, 'learning_rate': 4.2e-05, 'epoch': 0.8}\n",
      "{'loss': 0.7961, 'grad_norm': 3.5513808727264404, 'learning_rate': 4.178947368421053e-05, 'epoch': 0.82}\n",
      "{'loss': 0.7349, 'grad_norm': 1.4601218700408936, 'learning_rate': 4.157894736842106e-05, 'epoch': 0.84}\n",
      "{'loss': 0.7671, 'grad_norm': 4.857454776763916, 'learning_rate': 4.136842105263158e-05, 'epoch': 0.86}\n",
      "{'loss': 0.7471, 'grad_norm': 4.576184272766113, 'learning_rate': 4.1157894736842104e-05, 'epoch': 0.88}\n",
      "{'loss': 0.766, 'grad_norm': 1.690706729888916, 'learning_rate': 4.094736842105264e-05, 'epoch': 0.91}\n",
      "{'loss': 0.7489, 'grad_norm': 3.4989821910858154, 'learning_rate': 4.0736842105263164e-05, 'epoch': 0.93}\n",
      "{'loss': 0.7233, 'grad_norm': 3.0357911586761475, 'learning_rate': 4.0526315789473684e-05, 'epoch': 0.95}\n",
      "{'loss': 0.7299, 'grad_norm': 6.5910844802856445, 'learning_rate': 4.031578947368421e-05, 'epoch': 0.97}\n",
      "{'loss': 0.7113, 'grad_norm': 6.605341911315918, 'learning_rate': 4.010526315789474e-05, 'epoch': 0.99}\n"
     ]
    },
    {
     "data": {
      "application/vnd.jupyter.widget-view+json": {
       "model_id": "943e8ae0749b49eaa3134ec27292a2b1",
       "version_major": 2,
       "version_minor": 0
      },
      "text/plain": [
       "  0%|          | 0/159 [00:00<?, ?it/s]"
      ]
     },
     "metadata": {},
     "output_type": "display_data"
    },
    {
     "name": "stdout",
     "output_type": "stream",
     "text": [
      "{'eval_loss': 0.7369598746299744, 'eval_precision': 0.9702331079234788, 'eval_recall': 0.6150706440425459, 'eval_f1': 0.7404745602369137, 'eval_runtime': 22.6706, 'eval_samples_per_second': 111.598, 'eval_steps_per_second': 7.014, 'epoch': 1.0}\n",
      "{'loss': 0.6524, 'grad_norm': 5.41062068939209, 'learning_rate': 3.989473684210526e-05, 'epoch': 1.01}\n",
      "{'loss': 0.6866, 'grad_norm': 4.441408157348633, 'learning_rate': 3.968421052631579e-05, 'epoch': 1.03}\n",
      "{'loss': 0.653, 'grad_norm': 2.364797830581665, 'learning_rate': 3.9473684210526316e-05, 'epoch': 1.05}\n",
      "{'loss': 0.6405, 'grad_norm': 4.446755409240723, 'learning_rate': 3.926315789473684e-05, 'epoch': 1.07}\n",
      "{'loss': 0.6782, 'grad_norm': 2.06634783744812, 'learning_rate': 3.905263157894737e-05, 'epoch': 1.09}\n",
      "{'loss': 0.6274, 'grad_norm': 4.5841193199157715, 'learning_rate': 3.8842105263157896e-05, 'epoch': 1.12}\n",
      "{'loss': 0.6068, 'grad_norm': 3.5880234241485596, 'learning_rate': 3.863157894736842e-05, 'epoch': 1.14}\n",
      "{'loss': 0.6543, 'grad_norm': 3.318786144256592, 'learning_rate': 3.842105263157895e-05, 'epoch': 1.16}\n",
      "{'loss': 0.6273, 'grad_norm': 3.5743601322174072, 'learning_rate': 3.8210526315789476e-05, 'epoch': 1.18}\n",
      "{'loss': 0.6483, 'grad_norm': 4.198106288909912, 'learning_rate': 3.8e-05, 'epoch': 1.2}\n",
      "{'loss': 0.6708, 'grad_norm': 2.980637788772583, 'learning_rate': 3.778947368421053e-05, 'epoch': 1.22}\n",
      "{'loss': 0.714, 'grad_norm': 2.4613916873931885, 'learning_rate': 3.7578947368421055e-05, 'epoch': 1.24}\n",
      "{'loss': 0.6419, 'grad_norm': 5.6812357902526855, 'learning_rate': 3.736842105263158e-05, 'epoch': 1.26}\n",
      "{'loss': 0.652, 'grad_norm': 3.4597229957580566, 'learning_rate': 3.715789473684211e-05, 'epoch': 1.28}\n",
      "{'loss': 0.6095, 'grad_norm': 5.213532447814941, 'learning_rate': 3.6947368421052635e-05, 'epoch': 1.31}\n",
      "{'loss': 0.6331, 'grad_norm': 3.122222900390625, 'learning_rate': 3.673684210526316e-05, 'epoch': 1.33}\n",
      "{'loss': 0.6586, 'grad_norm': 3.671273946762085, 'learning_rate': 3.652631578947369e-05, 'epoch': 1.35}\n",
      "{'loss': 0.6409, 'grad_norm': 2.5946338176727295, 'learning_rate': 3.6315789473684214e-05, 'epoch': 1.37}\n",
      "{'loss': 0.6931, 'grad_norm': 8.259819984436035, 'learning_rate': 3.6105263157894734e-05, 'epoch': 1.39}\n",
      "{'loss': 0.6035, 'grad_norm': 3.1111278533935547, 'learning_rate': 3.589473684210527e-05, 'epoch': 1.41}\n",
      "{'loss': 0.5884, 'grad_norm': 4.493921279907227, 'learning_rate': 3.5684210526315794e-05, 'epoch': 1.43}\n",
      "{'loss': 0.6225, 'grad_norm': 2.4605207443237305, 'learning_rate': 3.547368421052632e-05, 'epoch': 1.45}\n",
      "{'loss': 0.6094, 'grad_norm': 4.1331634521484375, 'learning_rate': 3.526315789473684e-05, 'epoch': 1.47}\n",
      "{'loss': 0.6398, 'grad_norm': 4.433096408843994, 'learning_rate': 3.505263157894737e-05, 'epoch': 1.49}\n",
      "{'loss': 0.6304, 'grad_norm': 3.9427030086517334, 'learning_rate': 3.48421052631579e-05, 'epoch': 1.52}\n",
      "{'loss': 0.6475, 'grad_norm': 2.0756237506866455, 'learning_rate': 3.463157894736842e-05, 'epoch': 1.54}\n",
      "{'loss': 0.5929, 'grad_norm': 3.333153486251831, 'learning_rate': 3.442105263157895e-05, 'epoch': 1.56}\n",
      "{'loss': 0.5991, 'grad_norm': 4.349944591522217, 'learning_rate': 3.421052631578947e-05, 'epoch': 1.58}\n",
      "{'loss': 0.573, 'grad_norm': 2.933236598968506, 'learning_rate': 3.4000000000000007e-05, 'epoch': 1.6}\n",
      "{'loss': 0.5788, 'grad_norm': 5.111965179443359, 'learning_rate': 3.3789473684210526e-05, 'epoch': 1.62}\n",
      "{'loss': 0.6249, 'grad_norm': 4.186398029327393, 'learning_rate': 3.357894736842105e-05, 'epoch': 1.64}\n",
      "{'loss': 0.5944, 'grad_norm': 2.4571399688720703, 'learning_rate': 3.336842105263158e-05, 'epoch': 1.66}\n",
      "{'loss': 0.6153, 'grad_norm': 4.929653167724609, 'learning_rate': 3.3157894736842106e-05, 'epoch': 1.68}\n",
      "{'loss': 0.6191, 'grad_norm': 2.998523473739624, 'learning_rate': 3.294736842105263e-05, 'epoch': 1.71}\n",
      "{'loss': 0.5869, 'grad_norm': 3.004595994949341, 'learning_rate': 3.273684210526316e-05, 'epoch': 1.73}\n",
      "{'loss': 0.676, 'grad_norm': 3.1285440921783447, 'learning_rate': 3.2526315789473686e-05, 'epoch': 1.75}\n",
      "{'loss': 0.5958, 'grad_norm': 3.0057082176208496, 'learning_rate': 3.231578947368421e-05, 'epoch': 1.77}\n",
      "{'loss': 0.6196, 'grad_norm': 2.796797275543213, 'learning_rate': 3.210526315789474e-05, 'epoch': 1.79}\n",
      "{'loss': 0.6109, 'grad_norm': 4.976468563079834, 'learning_rate': 3.1894736842105265e-05, 'epoch': 1.81}\n",
      "{'loss': 0.5699, 'grad_norm': 9.131484985351562, 'learning_rate': 3.168421052631579e-05, 'epoch': 1.83}\n",
      "{'loss': 0.6354, 'grad_norm': 3.9926552772521973, 'learning_rate': 3.147368421052632e-05, 'epoch': 1.85}\n",
      "{'loss': 0.5952, 'grad_norm': 4.736739158630371, 'learning_rate': 3.1263157894736845e-05, 'epoch': 1.87}\n",
      "{'loss': 0.5804, 'grad_norm': 3.411346197128296, 'learning_rate': 3.105263157894737e-05, 'epoch': 1.89}\n",
      "{'loss': 0.6713, 'grad_norm': 4.396014213562012, 'learning_rate': 3.084210526315789e-05, 'epoch': 1.92}\n",
      "{'loss': 0.6127, 'grad_norm': 3.260715961456299, 'learning_rate': 3.0631578947368425e-05, 'epoch': 1.94}\n",
      "{'loss': 0.6031, 'grad_norm': 3.798090934753418, 'learning_rate': 3.042105263157895e-05, 'epoch': 1.96}\n",
      "{'loss': 0.5825, 'grad_norm': 4.149285793304443, 'learning_rate': 3.021052631578947e-05, 'epoch': 1.98}\n",
      "{'loss': 0.542, 'grad_norm': 5.10671329498291, 'learning_rate': 3e-05, 'epoch': 2.0}\n"
     ]
    },
    {
     "data": {
      "application/vnd.jupyter.widget-view+json": {
       "model_id": "bc854cb1e92c455d8f165609b34269e6",
       "version_major": 2,
       "version_minor": 0
      },
      "text/plain": [
       "  0%|          | 0/159 [00:00<?, ?it/s]"
      ]
     },
     "metadata": {},
     "output_type": "display_data"
    },
    {
     "name": "stdout",
     "output_type": "stream",
     "text": [
      "{'eval_loss': 0.6516088247299194, 'eval_precision': 0.969831253723253, 'eval_recall': 0.7802604843616271, 'eval_f1': 0.8565983268911304, 'eval_runtime': 22.8329, 'eval_samples_per_second': 110.805, 'eval_steps_per_second': 6.964, 'epoch': 2.0}\n",
      "{'loss': 0.5098, 'grad_norm': 2.8702311515808105, 'learning_rate': 2.9789473684210527e-05, 'epoch': 2.02}\n",
      "{'loss': 0.5091, 'grad_norm': 3.161241054534912, 'learning_rate': 2.9578947368421057e-05, 'epoch': 2.04}\n",
      "{'loss': 0.4712, 'grad_norm': 2.8818273544311523, 'learning_rate': 2.9368421052631577e-05, 'epoch': 2.06}\n",
      "{'loss': 0.4706, 'grad_norm': 3.308574914932251, 'learning_rate': 2.9157894736842107e-05, 'epoch': 2.08}\n",
      "{'loss': 0.5168, 'grad_norm': 2.973512887954712, 'learning_rate': 2.8947368421052634e-05, 'epoch': 2.11}\n",
      "{'loss': 0.4756, 'grad_norm': 6.032530784606934, 'learning_rate': 2.8736842105263163e-05, 'epoch': 2.13}\n",
      "{'loss': 0.4963, 'grad_norm': 3.0437166690826416, 'learning_rate': 2.8526315789473683e-05, 'epoch': 2.15}\n",
      "{'loss': 0.4976, 'grad_norm': 2.6404869556427, 'learning_rate': 2.8315789473684213e-05, 'epoch': 2.17}\n",
      "{'loss': 0.5232, 'grad_norm': 3.611255407333374, 'learning_rate': 2.810526315789474e-05, 'epoch': 2.19}\n",
      "{'loss': 0.4998, 'grad_norm': 7.5659637451171875, 'learning_rate': 2.7894736842105263e-05, 'epoch': 2.21}\n",
      "{'loss': 0.4979, 'grad_norm': 6.621018886566162, 'learning_rate': 2.768421052631579e-05, 'epoch': 2.23}\n",
      "{'loss': 0.4661, 'grad_norm': 4.469536304473877, 'learning_rate': 2.747368421052632e-05, 'epoch': 2.25}\n",
      "{'loss': 0.4771, 'grad_norm': 8.022466659545898, 'learning_rate': 2.7263157894736846e-05, 'epoch': 2.27}\n",
      "{'loss': 0.4938, 'grad_norm': 7.86318302154541, 'learning_rate': 2.705263157894737e-05, 'epoch': 2.29}\n",
      "{'loss': 0.4566, 'grad_norm': 2.5813188552856445, 'learning_rate': 2.6842105263157896e-05, 'epoch': 2.32}\n",
      "{'loss': 0.5036, 'grad_norm': 3.6841959953308105, 'learning_rate': 2.6631578947368426e-05, 'epoch': 2.34}\n",
      "{'loss': 0.463, 'grad_norm': 4.603213310241699, 'learning_rate': 2.6421052631578945e-05, 'epoch': 2.36}\n",
      "{'loss': 0.4631, 'grad_norm': 2.754774332046509, 'learning_rate': 2.6210526315789475e-05, 'epoch': 2.38}\n",
      "{'loss': 0.4837, 'grad_norm': 3.96378755569458, 'learning_rate': 2.6000000000000002e-05, 'epoch': 2.4}\n",
      "{'loss': 0.4998, 'grad_norm': 3.1634957790374756, 'learning_rate': 2.578947368421053e-05, 'epoch': 2.42}\n",
      "{'loss': 0.4824, 'grad_norm': 7.4685258865356445, 'learning_rate': 2.557894736842105e-05, 'epoch': 2.44}\n",
      "{'loss': 0.4566, 'grad_norm': 3.122246026992798, 'learning_rate': 2.536842105263158e-05, 'epoch': 2.46}\n",
      "{'loss': 0.4304, 'grad_norm': 2.6691346168518066, 'learning_rate': 2.5157894736842108e-05, 'epoch': 2.48}\n",
      "{'loss': 0.4436, 'grad_norm': 2.68789005279541, 'learning_rate': 2.4947368421052635e-05, 'epoch': 2.51}\n",
      "{'loss': 0.4501, 'grad_norm': 4.880311489105225, 'learning_rate': 2.4736842105263158e-05, 'epoch': 2.53}\n",
      "{'loss': 0.4805, 'grad_norm': 5.054441452026367, 'learning_rate': 2.4526315789473688e-05, 'epoch': 2.55}\n",
      "{'loss': 0.5057, 'grad_norm': 4.792763710021973, 'learning_rate': 2.431578947368421e-05, 'epoch': 2.57}\n",
      "{'loss': 0.4713, 'grad_norm': 3.1167173385620117, 'learning_rate': 2.410526315789474e-05, 'epoch': 2.59}\n",
      "{'loss': 0.4833, 'grad_norm': 5.8697896003723145, 'learning_rate': 2.3894736842105264e-05, 'epoch': 2.61}\n",
      "{'loss': 0.4822, 'grad_norm': 4.643794536590576, 'learning_rate': 2.368421052631579e-05, 'epoch': 2.63}\n",
      "{'loss': 0.5029, 'grad_norm': 3.2027170658111572, 'learning_rate': 2.3473684210526317e-05, 'epoch': 2.65}\n",
      "{'loss': 0.4612, 'grad_norm': 3.1664388179779053, 'learning_rate': 2.3263157894736844e-05, 'epoch': 2.67}\n",
      "{'loss': 0.4822, 'grad_norm': 3.1618764400482178, 'learning_rate': 2.305263157894737e-05, 'epoch': 2.69}\n",
      "{'loss': 0.5264, 'grad_norm': 6.6915693283081055, 'learning_rate': 2.2842105263157897e-05, 'epoch': 2.72}\n",
      "{'loss': 0.4758, 'grad_norm': 3.8061859607696533, 'learning_rate': 2.2631578947368423e-05, 'epoch': 2.74}\n",
      "{'loss': 0.4452, 'grad_norm': 4.2967329025268555, 'learning_rate': 2.242105263157895e-05, 'epoch': 2.76}\n",
      "{'loss': 0.4947, 'grad_norm': 5.171861171722412, 'learning_rate': 2.2210526315789476e-05, 'epoch': 2.78}\n",
      "{'loss': 0.4654, 'grad_norm': 5.973134517669678, 'learning_rate': 2.2000000000000003e-05, 'epoch': 2.8}\n",
      "{'loss': 0.4564, 'grad_norm': 6.2155985832214355, 'learning_rate': 2.1789473684210526e-05, 'epoch': 2.82}\n",
      "{'loss': 0.508, 'grad_norm': 3.1900522708892822, 'learning_rate': 2.1578947368421053e-05, 'epoch': 2.84}\n",
      "{'loss': 0.4881, 'grad_norm': 3.8429791927337646, 'learning_rate': 2.136842105263158e-05, 'epoch': 2.86}\n",
      "{'loss': 0.4931, 'grad_norm': 2.5874545574188232, 'learning_rate': 2.1157894736842106e-05, 'epoch': 2.88}\n",
      "{'loss': 0.4669, 'grad_norm': 2.7940995693206787, 'learning_rate': 2.0947368421052632e-05, 'epoch': 2.91}\n",
      "{'loss': 0.4914, 'grad_norm': 4.63422155380249, 'learning_rate': 2.073684210526316e-05, 'epoch': 2.93}\n",
      "{'loss': 0.5036, 'grad_norm': 3.508877992630005, 'learning_rate': 2.0526315789473685e-05, 'epoch': 2.95}\n",
      "{'loss': 0.4959, 'grad_norm': 7.508059501647949, 'learning_rate': 2.0315789473684212e-05, 'epoch': 2.97}\n",
      "{'loss': 0.4855, 'grad_norm': 4.776451110839844, 'learning_rate': 2.010526315789474e-05, 'epoch': 2.99}\n"
     ]
    },
    {
     "data": {
      "application/vnd.jupyter.widget-view+json": {
       "model_id": "39dded5ac8a3446c89683ddb106051cf",
       "version_major": 2,
       "version_minor": 0
      },
      "text/plain": [
       "  0%|          | 0/159 [00:00<?, ?it/s]"
      ]
     },
     "metadata": {},
     "output_type": "display_data"
    },
    {
     "name": "stdout",
     "output_type": "stream",
     "text": [
      "{'eval_loss': 0.6305006742477417, 'eval_precision': 0.9706972350979406, 'eval_recall': 0.7909645523411322, 'eval_f1': 0.8626439565923811, 'eval_runtime': 23.0539, 'eval_samples_per_second': 109.743, 'eval_steps_per_second': 6.897, 'epoch': 3.0}\n",
      "{'loss': 0.4243, 'grad_norm': 4.12973690032959, 'learning_rate': 1.9894736842105265e-05, 'epoch': 3.01}\n",
      "{'loss': 0.3985, 'grad_norm': 3.883939743041992, 'learning_rate': 1.968421052631579e-05, 'epoch': 3.03}\n",
      "{'loss': 0.3999, 'grad_norm': 7.175058841705322, 'learning_rate': 1.9473684210526315e-05, 'epoch': 3.05}\n",
      "{'loss': 0.3861, 'grad_norm': 5.047866344451904, 'learning_rate': 1.9263157894736845e-05, 'epoch': 3.07}\n",
      "{'loss': 0.3578, 'grad_norm': 2.769570827484131, 'learning_rate': 1.9052631578947368e-05, 'epoch': 3.09}\n",
      "{'loss': 0.4449, 'grad_norm': 3.865830421447754, 'learning_rate': 1.8842105263157894e-05, 'epoch': 3.12}\n",
      "{'loss': 0.3845, 'grad_norm': 4.657745361328125, 'learning_rate': 1.863157894736842e-05, 'epoch': 3.14}\n",
      "{'loss': 0.3871, 'grad_norm': 5.72026252746582, 'learning_rate': 1.8421052631578947e-05, 'epoch': 3.16}\n",
      "{'loss': 0.357, 'grad_norm': 4.22177267074585, 'learning_rate': 1.8210526315789474e-05, 'epoch': 3.18}\n",
      "{'loss': 0.4299, 'grad_norm': 3.148893117904663, 'learning_rate': 1.8e-05, 'epoch': 3.2}\n",
      "{'loss': 0.3749, 'grad_norm': 4.662144660949707, 'learning_rate': 1.7789473684210527e-05, 'epoch': 3.22}\n",
      "{'loss': 0.3674, 'grad_norm': 5.363941669464111, 'learning_rate': 1.7578947368421054e-05, 'epoch': 3.24}\n",
      "{'loss': 0.3882, 'grad_norm': 4.185689926147461, 'learning_rate': 1.736842105263158e-05, 'epoch': 3.26}\n",
      "{'loss': 0.3817, 'grad_norm': 7.539608001708984, 'learning_rate': 1.7157894736842107e-05, 'epoch': 3.28}\n",
      "{'loss': 0.3983, 'grad_norm': 3.407785654067993, 'learning_rate': 1.694736842105263e-05, 'epoch': 3.31}\n",
      "{'loss': 0.3982, 'grad_norm': 4.115620136260986, 'learning_rate': 1.673684210526316e-05, 'epoch': 3.33}\n",
      "{'loss': 0.3543, 'grad_norm': 3.7521770000457764, 'learning_rate': 1.6526315789473683e-05, 'epoch': 3.35}\n",
      "{'loss': 0.3844, 'grad_norm': 4.019412040710449, 'learning_rate': 1.6315789473684213e-05, 'epoch': 3.37}\n",
      "{'loss': 0.403, 'grad_norm': 3.7730655670166016, 'learning_rate': 1.6105263157894736e-05, 'epoch': 3.39}\n",
      "{'loss': 0.3962, 'grad_norm': 3.691934585571289, 'learning_rate': 1.5894736842105266e-05, 'epoch': 3.41}\n",
      "{'loss': 0.3869, 'grad_norm': 4.5898895263671875, 'learning_rate': 1.568421052631579e-05, 'epoch': 3.43}\n",
      "{'loss': 0.4029, 'grad_norm': 2.1937334537506104, 'learning_rate': 1.5473684210526316e-05, 'epoch': 3.45}\n",
      "{'loss': 0.3658, 'grad_norm': 2.646195411682129, 'learning_rate': 1.5263157894736842e-05, 'epoch': 3.47}\n",
      "{'loss': 0.3944, 'grad_norm': 5.140842914581299, 'learning_rate': 1.5052631578947369e-05, 'epoch': 3.49}\n",
      "{'loss': 0.3772, 'grad_norm': 3.1743812561035156, 'learning_rate': 1.4842105263157895e-05, 'epoch': 3.52}\n",
      "{'loss': 0.3824, 'grad_norm': 4.725964069366455, 'learning_rate': 1.4631578947368422e-05, 'epoch': 3.54}\n",
      "{'loss': 0.3271, 'grad_norm': 11.19218635559082, 'learning_rate': 1.4421052631578948e-05, 'epoch': 3.56}\n",
      "{'loss': 0.3662, 'grad_norm': 2.810137987136841, 'learning_rate': 1.4210526315789475e-05, 'epoch': 3.58}\n",
      "{'loss': 0.3716, 'grad_norm': 3.914876699447632, 'learning_rate': 1.4000000000000001e-05, 'epoch': 3.6}\n",
      "{'loss': 0.3544, 'grad_norm': 3.6802425384521484, 'learning_rate': 1.3789473684210526e-05, 'epoch': 3.62}\n",
      "{'loss': 0.3868, 'grad_norm': 9.13670539855957, 'learning_rate': 1.3578947368421053e-05, 'epoch': 3.64}\n",
      "{'loss': 0.3809, 'grad_norm': 2.598564624786377, 'learning_rate': 1.336842105263158e-05, 'epoch': 3.66}\n",
      "{'loss': 0.4, 'grad_norm': 3.980118751525879, 'learning_rate': 1.3157894736842106e-05, 'epoch': 3.68}\n",
      "{'loss': 0.3875, 'grad_norm': 4.816890239715576, 'learning_rate': 1.2947368421052633e-05, 'epoch': 3.71}\n",
      "{'loss': 0.3927, 'grad_norm': 3.759652853012085, 'learning_rate': 1.2736842105263157e-05, 'epoch': 3.73}\n",
      "{'loss': 0.3935, 'grad_norm': 3.7516469955444336, 'learning_rate': 1.2526315789473686e-05, 'epoch': 3.75}\n",
      "{'loss': 0.3617, 'grad_norm': 4.44861364364624, 'learning_rate': 1.231578947368421e-05, 'epoch': 3.77}\n",
      "{'loss': 0.3744, 'grad_norm': 4.15312385559082, 'learning_rate': 1.2105263157894737e-05, 'epoch': 3.79}\n",
      "{'loss': 0.4551, 'grad_norm': 5.729717254638672, 'learning_rate': 1.1894736842105264e-05, 'epoch': 3.81}\n",
      "{'loss': 0.3878, 'grad_norm': 3.616290807723999, 'learning_rate': 1.168421052631579e-05, 'epoch': 3.83}\n",
      "{'loss': 0.387, 'grad_norm': 6.386377334594727, 'learning_rate': 1.1473684210526315e-05, 'epoch': 3.85}\n",
      "{'loss': 0.3689, 'grad_norm': 5.83499002456665, 'learning_rate': 1.1263157894736842e-05, 'epoch': 3.87}\n",
      "{'loss': 0.3661, 'grad_norm': 3.87212872505188, 'learning_rate': 1.1052631578947368e-05, 'epoch': 3.89}\n",
      "{'loss': 0.363, 'grad_norm': 4.855194568634033, 'learning_rate': 1.0842105263157895e-05, 'epoch': 3.92}\n",
      "{'loss': 0.3774, 'grad_norm': 2.990288257598877, 'learning_rate': 1.0631578947368421e-05, 'epoch': 3.94}\n",
      "{'loss': 0.4136, 'grad_norm': 4.06472110748291, 'learning_rate': 1.0421052631578948e-05, 'epoch': 3.96}\n",
      "{'loss': 0.393, 'grad_norm': 4.914090156555176, 'learning_rate': 1.0210526315789474e-05, 'epoch': 3.98}\n",
      "{'loss': 0.4001, 'grad_norm': 11.67087459564209, 'learning_rate': 1e-05, 'epoch': 4.0}\n"
     ]
    },
    {
     "data": {
      "application/vnd.jupyter.widget-view+json": {
       "model_id": "1812746b62ed4060ab52f800b0a4be5e",
       "version_major": 2,
       "version_minor": 0
      },
      "text/plain": [
       "  0%|          | 0/159 [00:00<?, ?it/s]"
      ]
     },
     "metadata": {},
     "output_type": "display_data"
    },
    {
     "name": "stdout",
     "output_type": "stream",
     "text": [
      "{'eval_loss': 0.6137491464614868, 'eval_precision': 0.9715002923153256, 'eval_recall': 0.789787257924416, 'eval_f1': 0.8617501191191018, 'eval_runtime': 23.0326, 'eval_samples_per_second': 109.844, 'eval_steps_per_second': 6.903, 'epoch': 4.0}\n",
      "{'loss': 0.328, 'grad_norm': 2.873960256576538, 'learning_rate': 9.789473684210526e-06, 'epoch': 4.02}\n",
      "{'loss': 0.329, 'grad_norm': 1.938836693763733, 'learning_rate': 9.578947368421052e-06, 'epoch': 4.04}\n",
      "{'loss': 0.3301, 'grad_norm': 2.7975308895111084, 'learning_rate': 9.368421052631579e-06, 'epoch': 4.06}\n",
      "{'loss': 0.3339, 'grad_norm': 3.742765188217163, 'learning_rate': 9.157894736842105e-06, 'epoch': 4.08}\n",
      "{'loss': 0.2941, 'grad_norm': 3.7884769439697266, 'learning_rate': 8.947368421052632e-06, 'epoch': 4.11}\n",
      "{'loss': 0.3216, 'grad_norm': 7.582748889923096, 'learning_rate': 8.736842105263158e-06, 'epoch': 4.13}\n",
      "{'loss': 0.342, 'grad_norm': 4.364507675170898, 'learning_rate': 8.526315789473685e-06, 'epoch': 4.15}\n",
      "{'loss': 0.352, 'grad_norm': 5.599476337432861, 'learning_rate': 8.315789473684212e-06, 'epoch': 4.17}\n",
      "{'loss': 0.3467, 'grad_norm': 3.983096122741699, 'learning_rate': 8.105263157894736e-06, 'epoch': 4.19}\n",
      "{'loss': 0.3387, 'grad_norm': 3.224170207977295, 'learning_rate': 7.894736842105263e-06, 'epoch': 4.21}\n",
      "{'loss': 0.303, 'grad_norm': 2.7599947452545166, 'learning_rate': 7.68421052631579e-06, 'epoch': 4.23}\n",
      "{'loss': 0.3014, 'grad_norm': 5.415478229522705, 'learning_rate': 7.473684210526316e-06, 'epoch': 4.25}\n",
      "{'loss': 0.352, 'grad_norm': 2.518097400665283, 'learning_rate': 7.2631578947368426e-06, 'epoch': 4.27}\n",
      "{'loss': 0.3287, 'grad_norm': 3.8537416458129883, 'learning_rate': 7.052631578947369e-06, 'epoch': 4.29}\n",
      "{'loss': 0.3055, 'grad_norm': 6.3700785636901855, 'learning_rate': 6.842105263157896e-06, 'epoch': 4.32}\n",
      "{'loss': 0.3446, 'grad_norm': 4.0259623527526855, 'learning_rate': 6.631578947368422e-06, 'epoch': 4.34}\n",
      "{'loss': 0.3231, 'grad_norm': 6.394524574279785, 'learning_rate': 6.421052631578947e-06, 'epoch': 4.36}\n",
      "{'loss': 0.3277, 'grad_norm': 4.8433685302734375, 'learning_rate': 6.2105263157894745e-06, 'epoch': 4.38}\n",
      "{'loss': 0.3259, 'grad_norm': 2.633594512939453, 'learning_rate': 6e-06, 'epoch': 4.4}\n",
      "{'loss': 0.2944, 'grad_norm': 5.743419170379639, 'learning_rate': 5.789473684210527e-06, 'epoch': 4.42}\n",
      "{'loss': 0.3009, 'grad_norm': 4.906502723693848, 'learning_rate': 5.578947368421053e-06, 'epoch': 4.44}\n",
      "{'loss': 0.3241, 'grad_norm': 2.9087555408477783, 'learning_rate': 5.36842105263158e-06, 'epoch': 4.46}\n",
      "{'loss': 0.3441, 'grad_norm': 3.570547580718994, 'learning_rate': 5.1578947368421055e-06, 'epoch': 4.48}\n",
      "{'loss': 0.3446, 'grad_norm': 4.551058292388916, 'learning_rate': 4.947368421052632e-06, 'epoch': 4.51}\n",
      "{'loss': 0.3418, 'grad_norm': 6.491456031799316, 'learning_rate': 4.736842105263159e-06, 'epoch': 4.53}\n",
      "{'loss': 0.3015, 'grad_norm': 2.706382989883423, 'learning_rate': 4.526315789473685e-06, 'epoch': 4.55}\n",
      "{'loss': 0.3282, 'grad_norm': 4.678978443145752, 'learning_rate': 4.315789473684211e-06, 'epoch': 4.57}\n",
      "{'loss': 0.3226, 'grad_norm': 2.8564565181732178, 'learning_rate': 4.105263157894737e-06, 'epoch': 4.59}\n",
      "{'loss': 0.3256, 'grad_norm': 2.6965739727020264, 'learning_rate': 3.894736842105264e-06, 'epoch': 4.61}\n",
      "{'loss': 0.3106, 'grad_norm': 3.243911027908325, 'learning_rate': 3.6842105263157892e-06, 'epoch': 4.63}\n",
      "{'loss': 0.3195, 'grad_norm': 6.645627975463867, 'learning_rate': 3.4736842105263158e-06, 'epoch': 4.65}\n",
      "{'loss': 0.3291, 'grad_norm': 3.425612211227417, 'learning_rate': 3.2631578947368423e-06, 'epoch': 4.67}\n",
      "{'loss': 0.3111, 'grad_norm': 2.416168212890625, 'learning_rate': 3.0526315789473684e-06, 'epoch': 4.69}\n",
      "{'loss': 0.3208, 'grad_norm': 4.171560764312744, 'learning_rate': 2.842105263157895e-06, 'epoch': 4.72}\n",
      "{'loss': 0.3045, 'grad_norm': 3.525075674057007, 'learning_rate': 2.631578947368421e-06, 'epoch': 4.74}\n",
      "{'loss': 0.3138, 'grad_norm': 2.875009536743164, 'learning_rate': 2.4210526315789477e-06, 'epoch': 4.76}\n",
      "{'loss': 0.3585, 'grad_norm': 7.632115364074707, 'learning_rate': 2.2105263157894738e-06, 'epoch': 4.78}\n",
      "{'loss': 0.3447, 'grad_norm': 8.10705852508545, 'learning_rate': 2.0000000000000003e-06, 'epoch': 4.8}\n",
      "{'loss': 0.3284, 'grad_norm': 4.881525993347168, 'learning_rate': 1.7894736842105262e-06, 'epoch': 4.82}\n",
      "{'loss': 0.3236, 'grad_norm': 3.5648317337036133, 'learning_rate': 1.5789473684210528e-06, 'epoch': 4.84}\n",
      "{'loss': 0.3113, 'grad_norm': 4.685546398162842, 'learning_rate': 1.3684210526315791e-06, 'epoch': 4.86}\n",
      "{'loss': 0.3161, 'grad_norm': 4.106906890869141, 'learning_rate': 1.1578947368421055e-06, 'epoch': 4.88}\n",
      "{'loss': 0.3065, 'grad_norm': 3.5124611854553223, 'learning_rate': 9.473684210526317e-07, 'epoch': 4.91}\n",
      "{'loss': 0.3025, 'grad_norm': 4.660088062286377, 'learning_rate': 7.368421052631579e-07, 'epoch': 4.93}\n",
      "{'loss': 0.3438, 'grad_norm': 3.7213380336761475, 'learning_rate': 5.263157894736843e-07, 'epoch': 4.95}\n",
      "{'loss': 0.3308, 'grad_norm': 6.099535942077637, 'learning_rate': 3.1578947368421055e-07, 'epoch': 4.97}\n",
      "{'loss': 0.2818, 'grad_norm': 4.783742904663086, 'learning_rate': 1.0526315789473685e-07, 'epoch': 4.99}\n"
     ]
    },
    {
     "data": {
      "application/vnd.jupyter.widget-view+json": {
       "model_id": "7da0660eeae34f979240f2e95978c9af",
       "version_major": 2,
       "version_minor": 0
      },
      "text/plain": [
       "  0%|          | 0/159 [00:00<?, ?it/s]"
      ]
     },
     "metadata": {},
     "output_type": "display_data"
    },
    {
     "name": "stdout",
     "output_type": "stream",
     "text": [
      "{'eval_loss': 0.675471842288971, 'eval_precision': 0.9712424899998483, 'eval_recall': 0.8135869724655963, 'eval_f1': 0.8767213328151993, 'eval_runtime': 23.1332, 'eval_samples_per_second': 109.367, 'eval_steps_per_second': 6.873, 'epoch': 5.0}\n",
      "{'train_runtime': 972.1189, 'train_samples_per_second': 39.028, 'train_steps_per_second': 2.443, 'train_loss': 0.5310138018758673, 'epoch': 5.0}\n"
     ]
    },
    {
     "data": {
      "text/plain": [
       "TrainOutput(global_step=2375, training_loss=0.5310138018758673, metrics={'train_runtime': 972.1189, 'train_samples_per_second': 39.028, 'train_steps_per_second': 2.443, 'total_flos': 9914226348257280.0, 'train_loss': 0.5310138018758673, 'epoch': 5.0})"
      ]
     },
     "execution_count": 64,
     "metadata": {},
     "output_type": "execute_result"
    }
   ],
   "source": [
    "model = AutoModelForTokenClassification.from_pretrained(\n",
    "    \"bert-base-uncased\",\n",
    "    num_labels=num_labels,\n",
    "    id2label=id_to_label,\n",
    "    label2id=label_to_id\n",
    ")\n",
    "tokenizer = AutoTokenizer.from_pretrained(\"bert-base-uncased\")\n",
    "\n",
    "training_args = TrainingArguments(\n",
    "    output_dir=\"./results_1\", \n",
    "    evaluation_strategy=\"epoch\",\n",
    "    save_strategy=\"epoch\",\n",
    "    learning_rate=5e-5,\n",
    "    per_device_train_batch_size=16,\n",
    "    per_device_eval_batch_size=16,\n",
    "    num_train_epochs=5,\n",
    "    weight_decay=0.01,\n",
    "    logging_dir=\"./logs\",\n",
    "    logging_steps=10,\n",
    "    save_total_limit=2,\n",
    "    load_best_model_at_end=True,\n",
    "    report_to=[]\n",
    ")\n",
    "\n",
    "trainer = WeightedLossTrainer(\n",
    "    model=model,\n",
    "    args=training_args,\n",
    "    train_dataset=train_dataset,\n",
    "    eval_dataset=val_dataset,\n",
    "    tokenizer=tokenizer,\n",
    "    compute_metrics=compute_metrics, \n",
    ")\n",
    "\n",
    "trainer.train()"
   ]
  },
  {
   "cell_type": "code",
   "execution_count": 65,
   "metadata": {},
   "outputs": [
    {
     "data": {
      "text/html": [
       "<div>\n",
       "<style scoped>\n",
       "    .dataframe tbody tr th:only-of-type {\n",
       "        vertical-align: middle;\n",
       "    }\n",
       "\n",
       "    .dataframe tbody tr th {\n",
       "        vertical-align: top;\n",
       "    }\n",
       "\n",
       "    .dataframe thead th {\n",
       "        text-align: right;\n",
       "    }\n",
       "</style>\n",
       "<table border=\"1\" class=\"dataframe\">\n",
       "  <thead>\n",
       "    <tr style=\"text-align: right;\">\n",
       "      <th></th>\n",
       "      <th>eval_precision</th>\n",
       "      <th>eval_recall</th>\n",
       "      <th>eval_f1</th>\n",
       "    </tr>\n",
       "  </thead>\n",
       "  <tbody>\n",
       "    <tr>\n",
       "      <th>47</th>\n",
       "      <td>0.970233</td>\n",
       "      <td>0.615071</td>\n",
       "      <td>0.740475</td>\n",
       "    </tr>\n",
       "    <tr>\n",
       "      <th>96</th>\n",
       "      <td>0.969831</td>\n",
       "      <td>0.780260</td>\n",
       "      <td>0.856598</td>\n",
       "    </tr>\n",
       "    <tr>\n",
       "      <th>144</th>\n",
       "      <td>0.970697</td>\n",
       "      <td>0.790965</td>\n",
       "      <td>0.862644</td>\n",
       "    </tr>\n",
       "    <tr>\n",
       "      <th>193</th>\n",
       "      <td>0.971500</td>\n",
       "      <td>0.789787</td>\n",
       "      <td>0.861750</td>\n",
       "    </tr>\n",
       "    <tr>\n",
       "      <th>241</th>\n",
       "      <td>0.971242</td>\n",
       "      <td>0.813587</td>\n",
       "      <td>0.876721</td>\n",
       "    </tr>\n",
       "  </tbody>\n",
       "</table>\n",
       "</div>"
      ],
      "text/plain": [
       "     eval_precision  eval_recall   eval_f1\n",
       "47         0.970233     0.615071  0.740475\n",
       "96         0.969831     0.780260  0.856598\n",
       "144        0.970697     0.790965  0.862644\n",
       "193        0.971500     0.789787  0.861750\n",
       "241        0.971242     0.813587  0.876721"
      ]
     },
     "execution_count": 65,
     "metadata": {},
     "output_type": "execute_result"
    }
   ],
   "source": [
    "training_metrics = trainer.state.log_history\n",
    "metrics_df = pd.DataFrame(training_metrics)\n",
    "eval_metrics_df = metrics_df[metrics_df['eval_loss'].notna()]\n",
    "eval_metrics_df[['eval_precision', 'eval_recall', 'eval_f1']]"
   ]
  },
  {
   "cell_type": "code",
   "execution_count": 66,
   "metadata": {},
   "outputs": [
    {
     "data": {
      "image/png": "[encoded data removed]",
      "text/plain": [
       "<Figure size 800x600 with 1 Axes>"
      ]
     },
     "metadata": {},
     "output_type": "display_data"
    }
   ],
   "source": [
    "valid_loss_metrics = metrics_df[['epoch', 'loss']].dropna()\n",
    "\n",
    "plt.figure(figsize=(8, 6))\n",
    "plt.plot(valid_loss_metrics['epoch'], valid_loss_metrics['loss'], marker='o', label='Training Loss')\n",
    "plt.title('Training Loss vs. Epochs (Valid Loss Rows Only)')\n",
    "plt.xlabel('Epochs')\n",
    "plt.ylabel('Loss')\n",
    "plt.legend()\n",
    "plt.grid(True)\n",
    "plt.show()"
   ]
  },
  {
   "cell_type": "markdown",
   "metadata": {},
   "source": [
    "### Training with dataset2"
   ]
  },
  {
   "cell_type": "code",
   "execution_count": 67,
   "metadata": {},
   "outputs": [],
   "source": [
    "tokenized_dataset2 = load_from_disk('dataset2_512')\n",
    "split_dataset = tokenized_dataset2.train_test_split(test_size=0.2)\n",
    "train_and_val_dataset = split_dataset['train']\n",
    "test_dataset = split_dataset['test']\n",
    "train_val_split = train_and_val_dataset.train_test_split(test_size=0.25, seed=42)\n",
    "train_dataset = train_val_split['train']\n",
    "val_dataset = train_val_split['test']"
   ]
  },
  {
   "cell_type": "code",
   "execution_count": 68,
   "metadata": {},
   "outputs": [
    {
     "name": "stderr",
     "output_type": "stream",
     "text": [
      "Some weights of BertForTokenClassification were not initialized from the model checkpoint at bert-base-uncased and are newly initialized: ['classifier.bias', 'classifier.weight']\n",
      "You should probably TRAIN this model on a down-stream task to be able to use it for predictions and inference.\n",
      "C:\\Users\\LEGION\\AppData\\Local\\Packages\\PythonSoftwareFoundation.Python.3.11_qbz5n2kfra8p0\\LocalCache\\local-packages\\Python311\\site-packages\\transformers\\training_args.py:1568: FutureWarning: `evaluation_strategy` is deprecated and will be removed in version 4.46 of 🤗 Transformers. Use `eval_strategy` instead\n",
      "  warnings.warn(\n",
      "C:\\Users\\LEGION\\AppData\\Local\\Temp\\ipykernel_44568\\3887186420.py:25: FutureWarning: `tokenizer` is deprecated and will be removed in version 5.0.0 for `WeightedLossTrainer.__init__`. Use `processing_class` instead.\n",
      "  trainer = WeightedLossTrainer(\n"
     ]
    },
    {
     "data": {
      "application/vnd.jupyter.widget-view+json": {
       "model_id": "7ff68633e0d84097a5fbd2e80c050fa9",
       "version_major": 2,
       "version_minor": 0
      },
      "text/plain": [
       "  0%|          | 0/2375 [00:00<?, ?it/s]"
      ]
     },
     "metadata": {},
     "output_type": "display_data"
    },
    {
     "name": "stdout",
     "output_type": "stream",
     "text": [
      "{'loss': 2.2138, 'grad_norm': 2.193999767303467, 'learning_rate': 4.978947368421053e-05, 'epoch': 0.02}\n",
      "{'loss': 2.0584, 'grad_norm': 1.880730152130127, 'learning_rate': 4.9578947368421055e-05, 'epoch': 0.04}\n",
      "{'loss': 1.9932, 'grad_norm': 2.5776801109313965, 'learning_rate': 4.936842105263158e-05, 'epoch': 0.06}\n",
      "{'loss': 1.9362, 'grad_norm': 4.629258632659912, 'learning_rate': 4.915789473684211e-05, 'epoch': 0.08}\n",
      "{'loss': 1.8824, 'grad_norm': 3.5678505897521973, 'learning_rate': 4.8947368421052635e-05, 'epoch': 0.11}\n",
      "{'loss': 1.8836, 'grad_norm': 1.8056176900863647, 'learning_rate': 4.873684210526316e-05, 'epoch': 0.13}\n",
      "{'loss': 1.8454, 'grad_norm': 2.3711256980895996, 'learning_rate': 4.852631578947369e-05, 'epoch': 0.15}\n",
      "{'loss': 1.8328, 'grad_norm': 3.3012356758117676, 'learning_rate': 4.8315789473684215e-05, 'epoch': 0.17}\n",
      "{'loss': 1.8452, 'grad_norm': 2.4056034088134766, 'learning_rate': 4.8105263157894735e-05, 'epoch': 0.19}\n",
      "{'loss': 1.9087, 'grad_norm': 3.2869603633880615, 'learning_rate': 4.789473684210526e-05, 'epoch': 0.21}\n",
      "{'loss': 1.8246, 'grad_norm': 2.6688148975372314, 'learning_rate': 4.7684210526315794e-05, 'epoch': 0.23}\n",
      "{'loss': 1.843, 'grad_norm': 2.7507572174072266, 'learning_rate': 4.747368421052632e-05, 'epoch': 0.25}\n",
      "{'loss': 1.8488, 'grad_norm': 1.7888609170913696, 'learning_rate': 4.726315789473684e-05, 'epoch': 0.27}\n",
      "{'loss': 1.8004, 'grad_norm': 3.588430404663086, 'learning_rate': 4.705263157894737e-05, 'epoch': 0.29}\n",
      "{'loss': 1.8473, 'grad_norm': 1.57154381275177, 'learning_rate': 4.68421052631579e-05, 'epoch': 0.32}\n",
      "{'loss': 1.7983, 'grad_norm': 3.541644334793091, 'learning_rate': 4.663157894736842e-05, 'epoch': 0.34}\n",
      "{'loss': 1.7021, 'grad_norm': 2.5573618412017822, 'learning_rate': 4.642105263157895e-05, 'epoch': 0.36}\n",
      "{'loss': 1.7574, 'grad_norm': 3.1264333724975586, 'learning_rate': 4.6210526315789473e-05, 'epoch': 0.38}\n",
      "{'loss': 1.7323, 'grad_norm': 2.070345401763916, 'learning_rate': 4.600000000000001e-05, 'epoch': 0.4}\n",
      "{'loss': 1.7325, 'grad_norm': 2.397576332092285, 'learning_rate': 4.5789473684210527e-05, 'epoch': 0.42}\n",
      "{'loss': 1.7268, 'grad_norm': 4.378702163696289, 'learning_rate': 4.557894736842105e-05, 'epoch': 0.44}\n",
      "{'loss': 1.8179, 'grad_norm': 3.0613133907318115, 'learning_rate': 4.536842105263158e-05, 'epoch': 0.46}\n",
      "{'loss': 1.7493, 'grad_norm': 2.478778123855591, 'learning_rate': 4.515789473684211e-05, 'epoch': 0.48}\n",
      "{'loss': 1.7972, 'grad_norm': 3.1451029777526855, 'learning_rate': 4.494736842105263e-05, 'epoch': 0.51}\n",
      "{'loss': 1.7662, 'grad_norm': 1.9945744276046753, 'learning_rate': 4.473684210526316e-05, 'epoch': 0.53}\n",
      "{'loss': 1.7007, 'grad_norm': 7.057875633239746, 'learning_rate': 4.4526315789473686e-05, 'epoch': 0.55}\n",
      "{'loss': 1.7058, 'grad_norm': 2.083446979522705, 'learning_rate': 4.431578947368421e-05, 'epoch': 0.57}\n",
      "{'loss': 1.7203, 'grad_norm': 2.650113582611084, 'learning_rate': 4.410526315789474e-05, 'epoch': 0.59}\n",
      "{'loss': 1.7616, 'grad_norm': 3.171844244003296, 'learning_rate': 4.3894736842105266e-05, 'epoch': 0.61}\n",
      "{'loss': 1.7127, 'grad_norm': 2.735211133956909, 'learning_rate': 4.368421052631579e-05, 'epoch': 0.63}\n",
      "{'loss': 1.6764, 'grad_norm': 3.9951908588409424, 'learning_rate': 4.347368421052632e-05, 'epoch': 0.65}\n",
      "{'loss': 1.7324, 'grad_norm': 2.6420347690582275, 'learning_rate': 4.3263157894736845e-05, 'epoch': 0.67}\n",
      "{'loss': 1.6244, 'grad_norm': 3.7809770107269287, 'learning_rate': 4.305263157894737e-05, 'epoch': 0.69}\n",
      "{'loss': 1.7157, 'grad_norm': 2.1993408203125, 'learning_rate': 4.284210526315789e-05, 'epoch': 0.72}\n",
      "{'loss': 1.6355, 'grad_norm': 3.747831106185913, 'learning_rate': 4.2631578947368425e-05, 'epoch': 0.74}\n",
      "{'loss': 1.6626, 'grad_norm': 2.569795608520508, 'learning_rate': 4.242105263157895e-05, 'epoch': 0.76}\n",
      "{'loss': 1.649, 'grad_norm': 2.284356117248535, 'learning_rate': 4.221052631578948e-05, 'epoch': 0.78}\n",
      "{'loss': 1.6342, 'grad_norm': 4.788090705871582, 'learning_rate': 4.2e-05, 'epoch': 0.8}\n",
      "{'loss': 1.7682, 'grad_norm': 4.11484956741333, 'learning_rate': 4.178947368421053e-05, 'epoch': 0.82}\n",
      "{'loss': 1.6542, 'grad_norm': 2.4246878623962402, 'learning_rate': 4.157894736842106e-05, 'epoch': 0.84}\n",
      "{'loss': 1.6427, 'grad_norm': 4.648098468780518, 'learning_rate': 4.136842105263158e-05, 'epoch': 0.86}\n",
      "{'loss': 1.7163, 'grad_norm': 2.8222756385803223, 'learning_rate': 4.1157894736842104e-05, 'epoch': 0.88}\n",
      "{'loss': 1.6783, 'grad_norm': 3.1374075412750244, 'learning_rate': 4.094736842105264e-05, 'epoch': 0.91}\n",
      "{'loss': 1.7173, 'grad_norm': 3.1762959957122803, 'learning_rate': 4.0736842105263164e-05, 'epoch': 0.93}\n",
      "{'loss': 1.6506, 'grad_norm': 3.7970314025878906, 'learning_rate': 4.0526315789473684e-05, 'epoch': 0.95}\n",
      "{'loss': 1.662, 'grad_norm': 4.612096786499023, 'learning_rate': 4.031578947368421e-05, 'epoch': 0.97}\n",
      "{'loss': 1.717, 'grad_norm': 3.412519693374634, 'learning_rate': 4.010526315789474e-05, 'epoch': 0.99}\n"
     ]
    },
    {
     "data": {
      "application/vnd.jupyter.widget-view+json": {
       "model_id": "7f7cabbb0e1843be858e3220c359642c",
       "version_major": 2,
       "version_minor": 0
      },
      "text/plain": [
       "  0%|          | 0/159 [00:00<?, ?it/s]"
      ]
     },
     "metadata": {},
     "output_type": "display_data"
    },
    {
     "name": "stdout",
     "output_type": "stream",
     "text": [
      "{'eval_loss': 1.6114007234573364, 'eval_precision': 0.9426162748039032, 'eval_recall': 0.572276055770337, 'eval_f1': 0.7018468972825954, 'eval_runtime': 23.0951, 'eval_samples_per_second': 109.547, 'eval_steps_per_second': 6.885, 'epoch': 1.0}\n",
      "{'loss': 1.6005, 'grad_norm': 4.841997146606445, 'learning_rate': 3.989473684210526e-05, 'epoch': 1.01}\n",
      "{'loss': 1.524, 'grad_norm': 3.255918502807617, 'learning_rate': 3.968421052631579e-05, 'epoch': 1.03}\n",
      "{'loss': 1.5097, 'grad_norm': 3.2256150245666504, 'learning_rate': 3.9473684210526316e-05, 'epoch': 1.05}\n",
      "{'loss': 1.6071, 'grad_norm': 3.722679615020752, 'learning_rate': 3.926315789473684e-05, 'epoch': 1.07}\n",
      "{'loss': 1.5682, 'grad_norm': 3.5079901218414307, 'learning_rate': 3.905263157894737e-05, 'epoch': 1.09}\n",
      "{'loss': 1.5599, 'grad_norm': 3.0925467014312744, 'learning_rate': 3.8842105263157896e-05, 'epoch': 1.12}\n",
      "{'loss': 1.5344, 'grad_norm': 4.939023971557617, 'learning_rate': 3.863157894736842e-05, 'epoch': 1.14}\n",
      "{'loss': 1.6623, 'grad_norm': 4.320024013519287, 'learning_rate': 3.842105263157895e-05, 'epoch': 1.16}\n",
      "{'loss': 1.558, 'grad_norm': 5.446727275848389, 'learning_rate': 3.8210526315789476e-05, 'epoch': 1.18}\n",
      "{'loss': 1.5008, 'grad_norm': 5.25001859664917, 'learning_rate': 3.8e-05, 'epoch': 1.2}\n",
      "{'loss': 1.5837, 'grad_norm': 4.178824424743652, 'learning_rate': 3.778947368421053e-05, 'epoch': 1.22}\n",
      "{'loss': 1.6421, 'grad_norm': 3.2448134422302246, 'learning_rate': 3.7578947368421055e-05, 'epoch': 1.24}\n",
      "{'loss': 1.526, 'grad_norm': 3.543076753616333, 'learning_rate': 3.736842105263158e-05, 'epoch': 1.26}\n",
      "{'loss': 1.4997, 'grad_norm': 4.881008148193359, 'learning_rate': 3.715789473684211e-05, 'epoch': 1.28}\n",
      "{'loss': 1.5034, 'grad_norm': 6.573970317840576, 'learning_rate': 3.6947368421052635e-05, 'epoch': 1.31}\n",
      "{'loss': 1.5213, 'grad_norm': 3.036404609680176, 'learning_rate': 3.673684210526316e-05, 'epoch': 1.33}\n",
      "{'loss': 1.5701, 'grad_norm': 3.0713093280792236, 'learning_rate': 3.652631578947369e-05, 'epoch': 1.35}\n",
      "{'loss': 1.5712, 'grad_norm': 3.047929525375366, 'learning_rate': 3.6315789473684214e-05, 'epoch': 1.37}\n",
      "{'loss': 1.5693, 'grad_norm': 4.211714267730713, 'learning_rate': 3.6105263157894734e-05, 'epoch': 1.39}\n",
      "{'loss': 1.5845, 'grad_norm': 4.230606555938721, 'learning_rate': 3.589473684210527e-05, 'epoch': 1.41}\n",
      "{'loss': 1.5155, 'grad_norm': 3.1126158237457275, 'learning_rate': 3.5684210526315794e-05, 'epoch': 1.43}\n",
      "{'loss': 1.4367, 'grad_norm': 2.7296266555786133, 'learning_rate': 3.547368421052632e-05, 'epoch': 1.45}\n",
      "{'loss': 1.5977, 'grad_norm': 2.9031662940979004, 'learning_rate': 3.526315789473684e-05, 'epoch': 1.47}\n",
      "{'loss': 1.4852, 'grad_norm': 3.5575852394104004, 'learning_rate': 3.505263157894737e-05, 'epoch': 1.49}\n",
      "{'loss': 1.4863, 'grad_norm': 3.345896005630493, 'learning_rate': 3.48421052631579e-05, 'epoch': 1.52}\n",
      "{'loss': 1.5598, 'grad_norm': 2.847665548324585, 'learning_rate': 3.463157894736842e-05, 'epoch': 1.54}\n",
      "{'loss': 1.4815, 'grad_norm': 5.2752790451049805, 'learning_rate': 3.442105263157895e-05, 'epoch': 1.56}\n",
      "{'loss': 1.4499, 'grad_norm': 3.1270298957824707, 'learning_rate': 3.421052631578947e-05, 'epoch': 1.58}\n",
      "{'loss': 1.4187, 'grad_norm': 2.7402985095977783, 'learning_rate': 3.4000000000000007e-05, 'epoch': 1.6}\n",
      "{'loss': 1.4363, 'grad_norm': 4.346208572387695, 'learning_rate': 3.3789473684210526e-05, 'epoch': 1.62}\n",
      "{'loss': 1.5852, 'grad_norm': 3.7073347568511963, 'learning_rate': 3.357894736842105e-05, 'epoch': 1.64}\n",
      "{'loss': 1.4505, 'grad_norm': 5.021453857421875, 'learning_rate': 3.336842105263158e-05, 'epoch': 1.66}\n",
      "{'loss': 1.5234, 'grad_norm': 3.038681745529175, 'learning_rate': 3.3157894736842106e-05, 'epoch': 1.68}\n",
      "{'loss': 1.4922, 'grad_norm': 3.6482934951782227, 'learning_rate': 3.294736842105263e-05, 'epoch': 1.71}\n",
      "{'loss': 1.436, 'grad_norm': 2.5687129497528076, 'learning_rate': 3.273684210526316e-05, 'epoch': 1.73}\n",
      "{'loss': 1.4299, 'grad_norm': 3.3553686141967773, 'learning_rate': 3.2526315789473686e-05, 'epoch': 1.75}\n",
      "{'loss': 1.4829, 'grad_norm': 4.04538106918335, 'learning_rate': 3.231578947368421e-05, 'epoch': 1.77}\n",
      "{'loss': 1.4991, 'grad_norm': 3.475201368331909, 'learning_rate': 3.210526315789474e-05, 'epoch': 1.79}\n",
      "{'loss': 1.4555, 'grad_norm': 3.4399197101593018, 'learning_rate': 3.1894736842105265e-05, 'epoch': 1.81}\n",
      "{'loss': 1.4186, 'grad_norm': 6.941697597503662, 'learning_rate': 3.168421052631579e-05, 'epoch': 1.83}\n",
      "{'loss': 1.4713, 'grad_norm': 3.308872938156128, 'learning_rate': 3.147368421052632e-05, 'epoch': 1.85}\n",
      "{'loss': 1.3773, 'grad_norm': 4.0428667068481445, 'learning_rate': 3.1263157894736845e-05, 'epoch': 1.87}\n",
      "{'loss': 1.3996, 'grad_norm': 4.471336364746094, 'learning_rate': 3.105263157894737e-05, 'epoch': 1.89}\n",
      "{'loss': 1.478, 'grad_norm': 3.4177324771881104, 'learning_rate': 3.084210526315789e-05, 'epoch': 1.92}\n",
      "{'loss': 1.4483, 'grad_norm': 4.057892799377441, 'learning_rate': 3.0631578947368425e-05, 'epoch': 1.94}\n",
      "{'loss': 1.4522, 'grad_norm': 3.649651050567627, 'learning_rate': 3.042105263157895e-05, 'epoch': 1.96}\n",
      "{'loss': 1.4814, 'grad_norm': 4.880258560180664, 'learning_rate': 3.021052631578947e-05, 'epoch': 1.98}\n",
      "{'loss': 1.3911, 'grad_norm': 9.463605880737305, 'learning_rate': 3e-05, 'epoch': 2.0}\n"
     ]
    },
    {
     "data": {
      "application/vnd.jupyter.widget-view+json": {
       "model_id": "bb8fd36238574bc2addf11f27ee7e888",
       "version_major": 2,
       "version_minor": 0
      },
      "text/plain": [
       "  0%|          | 0/159 [00:00<?, ?it/s]"
      ]
     },
     "metadata": {},
     "output_type": "display_data"
    },
    {
     "name": "stdout",
     "output_type": "stream",
     "text": [
      "{'eval_loss': 1.4769362211227417, 'eval_precision': 0.9430216817567109, 'eval_recall': 0.6819277016228296, 'eval_f1': 0.7823574994779011, 'eval_runtime': 23.3979, 'eval_samples_per_second': 108.13, 'eval_steps_per_second': 6.795, 'epoch': 2.0}\n",
      "{'loss': 1.3072, 'grad_norm': 2.794706344604492, 'learning_rate': 2.9789473684210527e-05, 'epoch': 2.02}\n",
      "{'loss': 1.3489, 'grad_norm': 3.7633159160614014, 'learning_rate': 2.9578947368421057e-05, 'epoch': 2.04}\n",
      "{'loss': 1.3718, 'grad_norm': 3.7345194816589355, 'learning_rate': 2.9368421052631577e-05, 'epoch': 2.06}\n",
      "{'loss': 1.2755, 'grad_norm': 3.6023430824279785, 'learning_rate': 2.9157894736842107e-05, 'epoch': 2.08}\n",
      "{'loss': 1.3002, 'grad_norm': 3.526200294494629, 'learning_rate': 2.8947368421052634e-05, 'epoch': 2.11}\n",
      "{'loss': 1.275, 'grad_norm': 4.851191997528076, 'learning_rate': 2.8736842105263163e-05, 'epoch': 2.13}\n",
      "{'loss': 1.3088, 'grad_norm': 4.183913230895996, 'learning_rate': 2.8526315789473683e-05, 'epoch': 2.15}\n",
      "{'loss': 1.2154, 'grad_norm': 3.740203380584717, 'learning_rate': 2.8315789473684213e-05, 'epoch': 2.17}\n",
      "{'loss': 1.3879, 'grad_norm': 3.36399507522583, 'learning_rate': 2.810526315789474e-05, 'epoch': 2.19}\n",
      "{'loss': 1.3097, 'grad_norm': 4.4991326332092285, 'learning_rate': 2.7894736842105263e-05, 'epoch': 2.21}\n",
      "{'loss': 1.3586, 'grad_norm': 3.564392328262329, 'learning_rate': 2.768421052631579e-05, 'epoch': 2.23}\n",
      "{'loss': 1.2233, 'grad_norm': 3.1226906776428223, 'learning_rate': 2.747368421052632e-05, 'epoch': 2.25}\n",
      "{'loss': 1.3148, 'grad_norm': 6.103529453277588, 'learning_rate': 2.7263157894736846e-05, 'epoch': 2.27}\n",
      "{'loss': 1.3299, 'grad_norm': 4.21716833114624, 'learning_rate': 2.705263157894737e-05, 'epoch': 2.29}\n",
      "{'loss': 1.2248, 'grad_norm': 2.819153308868408, 'learning_rate': 2.6842105263157896e-05, 'epoch': 2.32}\n",
      "{'loss': 1.2615, 'grad_norm': 6.1196513175964355, 'learning_rate': 2.6631578947368426e-05, 'epoch': 2.34}\n",
      "{'loss': 1.2601, 'grad_norm': 3.695580244064331, 'learning_rate': 2.6421052631578945e-05, 'epoch': 2.36}\n",
      "{'loss': 1.1845, 'grad_norm': 3.63901948928833, 'learning_rate': 2.6210526315789475e-05, 'epoch': 2.38}\n",
      "{'loss': 1.2766, 'grad_norm': 5.37944221496582, 'learning_rate': 2.6000000000000002e-05, 'epoch': 2.4}\n",
      "{'loss': 1.3249, 'grad_norm': 4.8920512199401855, 'learning_rate': 2.578947368421053e-05, 'epoch': 2.42}\n",
      "{'loss': 1.2733, 'grad_norm': 7.160285472869873, 'learning_rate': 2.557894736842105e-05, 'epoch': 2.44}\n",
      "{'loss': 1.2705, 'grad_norm': 5.805870532989502, 'learning_rate': 2.536842105263158e-05, 'epoch': 2.46}\n",
      "{'loss': 1.2928, 'grad_norm': 3.2508318424224854, 'learning_rate': 2.5157894736842108e-05, 'epoch': 2.48}\n",
      "{'loss': 1.2632, 'grad_norm': 6.71319055557251, 'learning_rate': 2.4947368421052635e-05, 'epoch': 2.51}\n",
      "{'loss': 1.1973, 'grad_norm': 6.927815914154053, 'learning_rate': 2.4736842105263158e-05, 'epoch': 2.53}\n",
      "{'loss': 1.2977, 'grad_norm': 4.1747660636901855, 'learning_rate': 2.4526315789473688e-05, 'epoch': 2.55}\n",
      "{'loss': 1.2107, 'grad_norm': 4.052656650543213, 'learning_rate': 2.431578947368421e-05, 'epoch': 2.57}\n",
      "{'loss': 1.4083, 'grad_norm': 5.476246356964111, 'learning_rate': 2.410526315789474e-05, 'epoch': 2.59}\n",
      "{'loss': 1.3072, 'grad_norm': 3.836318016052246, 'learning_rate': 2.3894736842105264e-05, 'epoch': 2.61}\n",
      "{'loss': 1.2812, 'grad_norm': 4.576964855194092, 'learning_rate': 2.368421052631579e-05, 'epoch': 2.63}\n",
      "{'loss': 1.3287, 'grad_norm': 4.687368392944336, 'learning_rate': 2.3473684210526317e-05, 'epoch': 2.65}\n",
      "{'loss': 1.1576, 'grad_norm': 6.13350248336792, 'learning_rate': 2.3263157894736844e-05, 'epoch': 2.67}\n",
      "{'loss': 1.2331, 'grad_norm': 6.8378143310546875, 'learning_rate': 2.305263157894737e-05, 'epoch': 2.69}\n",
      "{'loss': 1.2965, 'grad_norm': 5.626844882965088, 'learning_rate': 2.2842105263157897e-05, 'epoch': 2.72}\n",
      "{'loss': 1.2211, 'grad_norm': 4.7184343338012695, 'learning_rate': 2.2631578947368423e-05, 'epoch': 2.74}\n",
      "{'loss': 1.135, 'grad_norm': 6.166625499725342, 'learning_rate': 2.242105263157895e-05, 'epoch': 2.76}\n",
      "{'loss': 1.3067, 'grad_norm': 4.021033763885498, 'learning_rate': 2.2210526315789476e-05, 'epoch': 2.78}\n",
      "{'loss': 1.1914, 'grad_norm': 5.260194778442383, 'learning_rate': 2.2000000000000003e-05, 'epoch': 2.8}\n",
      "{'loss': 1.2538, 'grad_norm': 7.097819805145264, 'learning_rate': 2.1789473684210526e-05, 'epoch': 2.82}\n",
      "{'loss': 1.2923, 'grad_norm': 4.2079081535339355, 'learning_rate': 2.1578947368421053e-05, 'epoch': 2.84}\n",
      "{'loss': 1.3757, 'grad_norm': 6.209123134613037, 'learning_rate': 2.136842105263158e-05, 'epoch': 2.86}\n",
      "{'loss': 1.2882, 'grad_norm': 4.026308536529541, 'learning_rate': 2.1157894736842106e-05, 'epoch': 2.88}\n",
      "{'loss': 1.2417, 'grad_norm': 4.122718811035156, 'learning_rate': 2.0947368421052632e-05, 'epoch': 2.91}\n",
      "{'loss': 1.2624, 'grad_norm': 5.130523204803467, 'learning_rate': 2.073684210526316e-05, 'epoch': 2.93}\n",
      "{'loss': 1.2604, 'grad_norm': 5.54109001159668, 'learning_rate': 2.0526315789473685e-05, 'epoch': 2.95}\n",
      "{'loss': 1.1275, 'grad_norm': 7.76444673538208, 'learning_rate': 2.0315789473684212e-05, 'epoch': 2.97}\n",
      "{'loss': 1.1704, 'grad_norm': 5.610662937164307, 'learning_rate': 2.010526315789474e-05, 'epoch': 2.99}\n"
     ]
    },
    {
     "data": {
      "application/vnd.jupyter.widget-view+json": {
       "model_id": "a4f415b5292e4511be07390f941e7ce2",
       "version_major": 2,
       "version_minor": 0
      },
      "text/plain": [
       "  0%|          | 0/159 [00:00<?, ?it/s]"
      ]
     },
     "metadata": {},
     "output_type": "display_data"
    },
    {
     "name": "stdout",
     "output_type": "stream",
     "text": [
      "{'eval_loss': 1.369285225868225, 'eval_precision': 0.9445686389987215, 'eval_recall': 0.679346072262663, 'eval_f1': 0.7784551940684472, 'eval_runtime': 23.4364, 'eval_samples_per_second': 107.952, 'eval_steps_per_second': 6.784, 'epoch': 3.0}\n",
      "{'loss': 1.1576, 'grad_norm': 6.3046698570251465, 'learning_rate': 1.9894736842105265e-05, 'epoch': 3.01}\n",
      "{'loss': 1.1427, 'grad_norm': 4.34046745300293, 'learning_rate': 1.968421052631579e-05, 'epoch': 3.03}\n",
      "{'loss': 1.0754, 'grad_norm': 4.7276811599731445, 'learning_rate': 1.9473684210526315e-05, 'epoch': 3.05}\n",
      "{'loss': 1.1382, 'grad_norm': 4.839931488037109, 'learning_rate': 1.9263157894736845e-05, 'epoch': 3.07}\n",
      "{'loss': 0.9961, 'grad_norm': 3.3271398544311523, 'learning_rate': 1.9052631578947368e-05, 'epoch': 3.09}\n",
      "{'loss': 1.1037, 'grad_norm': 6.493537902832031, 'learning_rate': 1.8842105263157894e-05, 'epoch': 3.12}\n",
      "{'loss': 1.103, 'grad_norm': 6.085385799407959, 'learning_rate': 1.863157894736842e-05, 'epoch': 3.14}\n",
      "{'loss': 1.0938, 'grad_norm': 5.3890156745910645, 'learning_rate': 1.8421052631578947e-05, 'epoch': 3.16}\n",
      "{'loss': 1.0523, 'grad_norm': 4.661590099334717, 'learning_rate': 1.8210526315789474e-05, 'epoch': 3.18}\n",
      "{'loss': 1.0474, 'grad_norm': 5.799475193023682, 'learning_rate': 1.8e-05, 'epoch': 3.2}\n",
      "{'loss': 1.0347, 'grad_norm': 4.256962299346924, 'learning_rate': 1.7789473684210527e-05, 'epoch': 3.22}\n",
      "{'loss': 1.0666, 'grad_norm': 6.410772323608398, 'learning_rate': 1.7578947368421054e-05, 'epoch': 3.24}\n",
      "{'loss': 1.1089, 'grad_norm': 4.817610740661621, 'learning_rate': 1.736842105263158e-05, 'epoch': 3.26}\n",
      "{'loss': 1.0306, 'grad_norm': 4.150774955749512, 'learning_rate': 1.7157894736842107e-05, 'epoch': 3.28}\n",
      "{'loss': 1.0159, 'grad_norm': 3.5571084022521973, 'learning_rate': 1.694736842105263e-05, 'epoch': 3.31}\n",
      "{'loss': 1.1746, 'grad_norm': 4.828148365020752, 'learning_rate': 1.673684210526316e-05, 'epoch': 3.33}\n",
      "{'loss': 1.1776, 'grad_norm': 4.2205095291137695, 'learning_rate': 1.6526315789473683e-05, 'epoch': 3.35}\n",
      "{'loss': 1.1458, 'grad_norm': 6.118081092834473, 'learning_rate': 1.6315789473684213e-05, 'epoch': 3.37}\n",
      "{'loss': 1.103, 'grad_norm': 4.061547756195068, 'learning_rate': 1.6105263157894736e-05, 'epoch': 3.39}\n",
      "{'loss': 1.0987, 'grad_norm': 6.468811511993408, 'learning_rate': 1.5894736842105266e-05, 'epoch': 3.41}\n",
      "{'loss': 1.088, 'grad_norm': 5.973444938659668, 'learning_rate': 1.568421052631579e-05, 'epoch': 3.43}\n",
      "{'loss': 1.0861, 'grad_norm': 4.0970139503479, 'learning_rate': 1.5473684210526316e-05, 'epoch': 3.45}\n",
      "{'loss': 1.0949, 'grad_norm': 5.136800289154053, 'learning_rate': 1.5263157894736842e-05, 'epoch': 3.47}\n",
      "{'loss': 1.0759, 'grad_norm': 4.844836711883545, 'learning_rate': 1.5052631578947369e-05, 'epoch': 3.49}\n",
      "{'loss': 1.0515, 'grad_norm': 6.189894676208496, 'learning_rate': 1.4842105263157895e-05, 'epoch': 3.52}\n",
      "{'loss': 1.0714, 'grad_norm': 6.337419509887695, 'learning_rate': 1.4631578947368422e-05, 'epoch': 3.54}\n",
      "{'loss': 1.0246, 'grad_norm': 6.705152988433838, 'learning_rate': 1.4421052631578948e-05, 'epoch': 3.56}\n",
      "{'loss': 1.009, 'grad_norm': 4.980045318603516, 'learning_rate': 1.4210526315789475e-05, 'epoch': 3.58}\n",
      "{'loss': 1.0633, 'grad_norm': 5.50715970993042, 'learning_rate': 1.4000000000000001e-05, 'epoch': 3.6}\n",
      "{'loss': 1.0389, 'grad_norm': 5.748275279998779, 'learning_rate': 1.3789473684210526e-05, 'epoch': 3.62}\n",
      "{'loss': 1.0672, 'grad_norm': 4.737066745758057, 'learning_rate': 1.3578947368421053e-05, 'epoch': 3.64}\n",
      "{'loss': 1.0943, 'grad_norm': 5.384731769561768, 'learning_rate': 1.336842105263158e-05, 'epoch': 3.66}\n",
      "{'loss': 1.074, 'grad_norm': 3.4417638778686523, 'learning_rate': 1.3157894736842106e-05, 'epoch': 3.68}\n",
      "{'loss': 1.0398, 'grad_norm': 4.524349689483643, 'learning_rate': 1.2947368421052633e-05, 'epoch': 3.71}\n",
      "{'loss': 1.0607, 'grad_norm': 6.431724548339844, 'learning_rate': 1.2736842105263157e-05, 'epoch': 3.73}\n",
      "{'loss': 0.9786, 'grad_norm': 3.893242120742798, 'learning_rate': 1.2526315789473686e-05, 'epoch': 3.75}\n",
      "{'loss': 1.0919, 'grad_norm': 5.6194167137146, 'learning_rate': 1.231578947368421e-05, 'epoch': 3.77}\n",
      "{'loss': 1.0464, 'grad_norm': 5.560487747192383, 'learning_rate': 1.2105263157894737e-05, 'epoch': 3.79}\n",
      "{'loss': 1.0509, 'grad_norm': 7.898030757904053, 'learning_rate': 1.1894736842105264e-05, 'epoch': 3.81}\n",
      "{'loss': 1.0528, 'grad_norm': 4.591333389282227, 'learning_rate': 1.168421052631579e-05, 'epoch': 3.83}\n",
      "{'loss': 1.0921, 'grad_norm': 5.074599742889404, 'learning_rate': 1.1473684210526315e-05, 'epoch': 3.85}\n",
      "{'loss': 1.038, 'grad_norm': 6.323659420013428, 'learning_rate': 1.1263157894736842e-05, 'epoch': 3.87}\n",
      "{'loss': 1.0885, 'grad_norm': 6.2511186599731445, 'learning_rate': 1.1052631578947368e-05, 'epoch': 3.89}\n",
      "{'loss': 1.1481, 'grad_norm': 6.3796067237854, 'learning_rate': 1.0842105263157895e-05, 'epoch': 3.92}\n",
      "{'loss': 1.0572, 'grad_norm': 5.0722761154174805, 'learning_rate': 1.0631578947368421e-05, 'epoch': 3.94}\n",
      "{'loss': 1.1167, 'grad_norm': 4.930051803588867, 'learning_rate': 1.0421052631578948e-05, 'epoch': 3.96}\n",
      "{'loss': 1.0591, 'grad_norm': 6.353452205657959, 'learning_rate': 1.0210526315789474e-05, 'epoch': 3.98}\n",
      "{'loss': 1.0482, 'grad_norm': 10.018048286437988, 'learning_rate': 1e-05, 'epoch': 4.0}\n"
     ]
    },
    {
     "data": {
      "application/vnd.jupyter.widget-view+json": {
       "model_id": "b0de7026bdcd422a99c2de3dda474702",
       "version_major": 2,
       "version_minor": 0
      },
      "text/plain": [
       "  0%|          | 0/159 [00:00<?, ?it/s]"
      ]
     },
     "metadata": {},
     "output_type": "display_data"
    },
    {
     "name": "stdout",
     "output_type": "stream",
     "text": [
      "{'eval_loss': 1.3291075229644775, 'eval_precision': 0.9459436773239213, 'eval_recall': 0.6945042161936018, 'eval_f1': 0.7884717340338859, 'eval_runtime': 23.3813, 'eval_samples_per_second': 108.206, 'eval_steps_per_second': 6.8, 'epoch': 4.0}\n",
      "{'loss': 1.001, 'grad_norm': 4.603157997131348, 'learning_rate': 9.789473684210526e-06, 'epoch': 4.02}\n",
      "{'loss': 0.9653, 'grad_norm': 4.886837005615234, 'learning_rate': 9.578947368421052e-06, 'epoch': 4.04}\n",
      "{'loss': 0.9848, 'grad_norm': 4.041944980621338, 'learning_rate': 9.368421052631579e-06, 'epoch': 4.06}\n",
      "{'loss': 0.9848, 'grad_norm': 5.853087902069092, 'learning_rate': 9.157894736842105e-06, 'epoch': 4.08}\n",
      "{'loss': 0.9915, 'grad_norm': 4.408189296722412, 'learning_rate': 8.947368421052632e-06, 'epoch': 4.11}\n",
      "{'loss': 0.9773, 'grad_norm': 5.723463535308838, 'learning_rate': 8.736842105263158e-06, 'epoch': 4.13}\n",
      "{'loss': 0.959, 'grad_norm': 3.4097259044647217, 'learning_rate': 8.526315789473685e-06, 'epoch': 4.15}\n",
      "{'loss': 0.9468, 'grad_norm': 4.711867809295654, 'learning_rate': 8.315789473684212e-06, 'epoch': 4.17}\n",
      "{'loss': 0.971, 'grad_norm': 8.026841163635254, 'learning_rate': 8.105263157894736e-06, 'epoch': 4.19}\n",
      "{'loss': 1.0214, 'grad_norm': 5.3484721183776855, 'learning_rate': 7.894736842105263e-06, 'epoch': 4.21}\n",
      "{'loss': 1.0073, 'grad_norm': 3.811612844467163, 'learning_rate': 7.68421052631579e-06, 'epoch': 4.23}\n",
      "{'loss': 0.9512, 'grad_norm': 5.298792839050293, 'learning_rate': 7.473684210526316e-06, 'epoch': 4.25}\n",
      "{'loss': 0.9799, 'grad_norm': 4.695905685424805, 'learning_rate': 7.2631578947368426e-06, 'epoch': 4.27}\n",
      "{'loss': 0.9301, 'grad_norm': 6.093011379241943, 'learning_rate': 7.052631578947369e-06, 'epoch': 4.29}\n",
      "{'loss': 0.8813, 'grad_norm': 7.477519512176514, 'learning_rate': 6.842105263157896e-06, 'epoch': 4.32}\n",
      "{'loss': 0.8636, 'grad_norm': 5.884936809539795, 'learning_rate': 6.631578947368422e-06, 'epoch': 4.34}\n",
      "{'loss': 1.0014, 'grad_norm': 7.144378185272217, 'learning_rate': 6.421052631578947e-06, 'epoch': 4.36}\n",
      "{'loss': 1.0056, 'grad_norm': 7.935855865478516, 'learning_rate': 6.2105263157894745e-06, 'epoch': 4.38}\n",
      "{'loss': 0.9771, 'grad_norm': 4.439176559448242, 'learning_rate': 6e-06, 'epoch': 4.4}\n",
      "{'loss': 0.8561, 'grad_norm': 4.286849498748779, 'learning_rate': 5.789473684210527e-06, 'epoch': 4.42}\n",
      "{'loss': 0.9327, 'grad_norm': 6.2390265464782715, 'learning_rate': 5.578947368421053e-06, 'epoch': 4.44}\n",
      "{'loss': 0.998, 'grad_norm': 5.5281476974487305, 'learning_rate': 5.36842105263158e-06, 'epoch': 4.46}\n",
      "{'loss': 0.9101, 'grad_norm': 5.27916955947876, 'learning_rate': 5.1578947368421055e-06, 'epoch': 4.48}\n",
      "{'loss': 0.8952, 'grad_norm': 4.330289363861084, 'learning_rate': 4.947368421052632e-06, 'epoch': 4.51}\n",
      "{'loss': 0.9624, 'grad_norm': 7.108622074127197, 'learning_rate': 4.736842105263159e-06, 'epoch': 4.53}\n",
      "{'loss': 0.934, 'grad_norm': 5.397274971008301, 'learning_rate': 4.526315789473685e-06, 'epoch': 4.55}\n",
      "{'loss': 0.9797, 'grad_norm': 5.345519065856934, 'learning_rate': 4.315789473684211e-06, 'epoch': 4.57}\n",
      "{'loss': 0.9435, 'grad_norm': 7.269064426422119, 'learning_rate': 4.105263157894737e-06, 'epoch': 4.59}\n",
      "{'loss': 0.9405, 'grad_norm': 4.3010172843933105, 'learning_rate': 3.894736842105264e-06, 'epoch': 4.61}\n",
      "{'loss': 0.925, 'grad_norm': 6.141382694244385, 'learning_rate': 3.6842105263157892e-06, 'epoch': 4.63}\n",
      "{'loss': 0.9824, 'grad_norm': 4.6715803146362305, 'learning_rate': 3.4736842105263158e-06, 'epoch': 4.65}\n",
      "{'loss': 0.9107, 'grad_norm': 5.386045455932617, 'learning_rate': 3.2631578947368423e-06, 'epoch': 4.67}\n",
      "{'loss': 0.8398, 'grad_norm': 4.636693477630615, 'learning_rate': 3.0526315789473684e-06, 'epoch': 4.69}\n",
      "{'loss': 0.9419, 'grad_norm': 6.142141342163086, 'learning_rate': 2.842105263157895e-06, 'epoch': 4.72}\n",
      "{'loss': 0.9103, 'grad_norm': 5.254817485809326, 'learning_rate': 2.631578947368421e-06, 'epoch': 4.74}\n",
      "{'loss': 0.9423, 'grad_norm': 5.345813274383545, 'learning_rate': 2.4210526315789477e-06, 'epoch': 4.76}\n",
      "{'loss': 0.9432, 'grad_norm': 6.429983615875244, 'learning_rate': 2.2105263157894738e-06, 'epoch': 4.78}\n",
      "{'loss': 0.8808, 'grad_norm': 7.04417085647583, 'learning_rate': 2.0000000000000003e-06, 'epoch': 4.8}\n",
      "{'loss': 0.9058, 'grad_norm': 6.453366279602051, 'learning_rate': 1.7894736842105262e-06, 'epoch': 4.82}\n",
      "{'loss': 0.9239, 'grad_norm': 5.340450286865234, 'learning_rate': 1.5789473684210528e-06, 'epoch': 4.84}\n",
      "{'loss': 0.9153, 'grad_norm': 6.950313091278076, 'learning_rate': 1.3684210526315791e-06, 'epoch': 4.86}\n",
      "{'loss': 0.9759, 'grad_norm': 4.983246803283691, 'learning_rate': 1.1578947368421055e-06, 'epoch': 4.88}\n",
      "{'loss': 0.9353, 'grad_norm': 5.596112251281738, 'learning_rate': 9.473684210526317e-07, 'epoch': 4.91}\n",
      "{'loss': 0.8943, 'grad_norm': 7.174998760223389, 'learning_rate': 7.368421052631579e-07, 'epoch': 4.93}\n",
      "{'loss': 1.0373, 'grad_norm': 6.025620937347412, 'learning_rate': 5.263157894736843e-07, 'epoch': 4.95}\n",
      "{'loss': 0.858, 'grad_norm': 5.916008949279785, 'learning_rate': 3.1578947368421055e-07, 'epoch': 4.97}\n",
      "{'loss': 0.9447, 'grad_norm': 7.34527063369751, 'learning_rate': 1.0526315789473685e-07, 'epoch': 4.99}\n"
     ]
    },
    {
     "data": {
      "application/vnd.jupyter.widget-view+json": {
       "model_id": "47d485b0e26f4e7eb9a9fbea563e7560",
       "version_major": 2,
       "version_minor": 0
      },
      "text/plain": [
       "  0%|          | 0/159 [00:00<?, ?it/s]"
      ]
     },
     "metadata": {},
     "output_type": "display_data"
    },
    {
     "name": "stdout",
     "output_type": "stream",
     "text": [
      "{'eval_loss': 1.3244431018829346, 'eval_precision': 0.9462020228207799, 'eval_recall': 0.6832695366459992, 'eval_f1': 0.7802507276639146, 'eval_runtime': 23.2763, 'eval_samples_per_second': 108.694, 'eval_steps_per_second': 6.831, 'epoch': 5.0}\n",
      "{'train_runtime': 969.0378, 'train_samples_per_second': 39.152, 'train_steps_per_second': 2.451, 'train_loss': 1.3133700762296978, 'epoch': 5.0}\n"
     ]
    },
    {
     "data": {
      "text/plain": [
       "TrainOutput(global_step=2375, training_loss=1.3133700762296978, metrics={'train_runtime': 969.0378, 'train_samples_per_second': 39.152, 'train_steps_per_second': 2.451, 'total_flos': 9914226348257280.0, 'train_loss': 1.3133700762296978, 'epoch': 5.0})"
      ]
     },
     "execution_count": 68,
     "metadata": {},
     "output_type": "execute_result"
    }
   ],
   "source": [
    "model2 = AutoModelForTokenClassification.from_pretrained(\n",
    "    \"bert-base-uncased\",\n",
    "    num_labels=num_labels,\n",
    "    id2label=id_to_label,\n",
    "    label2id=label_to_id\n",
    ")\n",
    "tokenizer = AutoTokenizer.from_pretrained(\"bert-base-uncased\")\n",
    "\n",
    "training_args = TrainingArguments(\n",
    "    output_dir=\"./results_2\", \n",
    "    evaluation_strategy=\"epoch\",\n",
    "    save_strategy=\"epoch\",\n",
    "    learning_rate=5e-5,\n",
    "    per_device_train_batch_size=16,\n",
    "    per_device_eval_batch_size=16,\n",
    "    num_train_epochs=5,\n",
    "    weight_decay=0.01,\n",
    "    logging_dir=\"./logs\",\n",
    "    logging_steps=10,\n",
    "    save_total_limit=2,\n",
    "    load_best_model_at_end=True,\n",
    "    report_to=[]\n",
    ")\n",
    "\n",
    "trainer = WeightedLossTrainer(\n",
    "    model=model2,\n",
    "    args=training_args,\n",
    "    train_dataset=train_dataset,\n",
    "    eval_dataset=val_dataset,\n",
    "    tokenizer=tokenizer,\n",
    "    compute_metrics=compute_metrics, \n",
    ")\n",
    "\n",
    "trainer.train()"
   ]
  },
  {
   "cell_type": "code",
   "execution_count": 69,
   "metadata": {},
   "outputs": [
    {
     "data": {
      "text/html": [
       "<div>\n",
       "<style scoped>\n",
       "    .dataframe tbody tr th:only-of-type {\n",
       "        vertical-align: middle;\n",
       "    }\n",
       "\n",
       "    .dataframe tbody tr th {\n",
       "        vertical-align: top;\n",
       "    }\n",
       "\n",
       "    .dataframe thead th {\n",
       "        text-align: right;\n",
       "    }\n",
       "</style>\n",
       "<table border=\"1\" class=\"dataframe\">\n",
       "  <thead>\n",
       "    <tr style=\"text-align: right;\">\n",
       "      <th></th>\n",
       "      <th>eval_precision</th>\n",
       "      <th>eval_recall</th>\n",
       "      <th>eval_f1</th>\n",
       "    </tr>\n",
       "  </thead>\n",
       "  <tbody>\n",
       "    <tr>\n",
       "      <th>47</th>\n",
       "      <td>0.942616</td>\n",
       "      <td>0.572276</td>\n",
       "      <td>0.701847</td>\n",
       "    </tr>\n",
       "    <tr>\n",
       "      <th>96</th>\n",
       "      <td>0.943022</td>\n",
       "      <td>0.681928</td>\n",
       "      <td>0.782357</td>\n",
       "    </tr>\n",
       "    <tr>\n",
       "      <th>144</th>\n",
       "      <td>0.944569</td>\n",
       "      <td>0.679346</td>\n",
       "      <td>0.778455</td>\n",
       "    </tr>\n",
       "    <tr>\n",
       "      <th>193</th>\n",
       "      <td>0.945944</td>\n",
       "      <td>0.694504</td>\n",
       "      <td>0.788472</td>\n",
       "    </tr>\n",
       "    <tr>\n",
       "      <th>241</th>\n",
       "      <td>0.946202</td>\n",
       "      <td>0.683270</td>\n",
       "      <td>0.780251</td>\n",
       "    </tr>\n",
       "  </tbody>\n",
       "</table>\n",
       "</div>"
      ],
      "text/plain": [
       "     eval_precision  eval_recall   eval_f1\n",
       "47         0.942616     0.572276  0.701847\n",
       "96         0.943022     0.681928  0.782357\n",
       "144        0.944569     0.679346  0.778455\n",
       "193        0.945944     0.694504  0.788472\n",
       "241        0.946202     0.683270  0.780251"
      ]
     },
     "execution_count": 69,
     "metadata": {},
     "output_type": "execute_result"
    }
   ],
   "source": [
    "training_metrics = trainer.state.log_history\n",
    "metrics_df = pd.DataFrame(training_metrics)\n",
    "eval_metrics_df = metrics_df[metrics_df['eval_loss'].notna()]\n",
    "eval_metrics_df[['eval_precision', 'eval_recall', 'eval_f1']]"
   ]
  },
  {
   "cell_type": "code",
   "execution_count": 70,
   "metadata": {},
   "outputs": [
    {
     "data": {
      "image/png": "[encoded data removed]",
      "text/plain": [
       "<Figure size 800x600 with 1 Axes>"
      ]
     },
     "metadata": {},
     "output_type": "display_data"
    }
   ],
   "source": [
    "valid_loss_metrics = metrics_df[['epoch', 'loss']].dropna()\n",
    "\n",
    "plt.figure(figsize=(8, 6))\n",
    "plt.plot(valid_loss_metrics['epoch'], valid_loss_metrics['loss'], marker='o', label='Training Loss')\n",
    "plt.title('Training Loss vs. Epochs (Valid Loss Rows Only)')\n",
    "plt.xlabel('Epochs')\n",
    "plt.ylabel('Loss')\n",
    "plt.legend()\n",
    "plt.grid(True)\n",
    "plt.show()"
   ]
  },
  {
   "cell_type": "markdown",
   "metadata": {},
   "source": [
    "### Training with dataset3"
   ]
  },
  {
   "cell_type": "code",
   "execution_count": 71,
   "metadata": {},
   "outputs": [],
   "source": [
    "tokenized_dataset3 = load_from_disk('dataset3_512')\n",
    "split_dataset = tokenized_dataset3.train_test_split(test_size=0.2)\n",
    "train_and_val_dataset = split_dataset['train']\n",
    "test_dataset = split_dataset['test']\n",
    "train_val_split = train_and_val_dataset.train_test_split(test_size=0.25, seed=42)\n",
    "train_dataset = train_val_split['train']\n",
    "val_dataset = train_val_split['test']"
   ]
  },
  {
   "cell_type": "code",
   "execution_count": 73,
   "metadata": {},
   "outputs": [
    {
     "name": "stderr",
     "output_type": "stream",
     "text": [
      "Some weights of BertForTokenClassification were not initialized from the model checkpoint at bert-base-uncased and are newly initialized: ['classifier.bias', 'classifier.weight']\n",
      "You should probably TRAIN this model on a down-stream task to be able to use it for predictions and inference.\n",
      "C:\\Users\\LEGION\\AppData\\Local\\Packages\\PythonSoftwareFoundation.Python.3.11_qbz5n2kfra8p0\\LocalCache\\local-packages\\Python311\\site-packages\\transformers\\training_args.py:1568: FutureWarning: `evaluation_strategy` is deprecated and will be removed in version 4.46 of 🤗 Transformers. Use `eval_strategy` instead\n",
      "  warnings.warn(\n",
      "C:\\Users\\LEGION\\AppData\\Local\\Temp\\ipykernel_44568\\2827797522.py:25: FutureWarning: `tokenizer` is deprecated and will be removed in version 5.0.0 for `WeightedLossTrainer.__init__`. Use `processing_class` instead.\n",
      "  trainer = WeightedLossTrainer(\n"
     ]
    },
    {
     "data": {
      "application/vnd.jupyter.widget-view+json": {
       "model_id": "3af02af1a42840099e97f8ae4fc00d91",
       "version_major": 2,
       "version_minor": 0
      },
      "text/plain": [
       "  0%|          | 0/2375 [00:00<?, ?it/s]"
      ]
     },
     "metadata": {},
     "output_type": "display_data"
    },
    {
     "name": "stdout",
     "output_type": "stream",
     "text": [
      "{'loss': 1.4062, 'grad_norm': 4.574770927429199, 'learning_rate': 4.978947368421053e-05, 'epoch': 0.02}\n",
      "{'loss': 1.0872, 'grad_norm': 4.659997940063477, 'learning_rate': 4.9578947368421055e-05, 'epoch': 0.04}\n",
      "{'loss': 0.9712, 'grad_norm': 1.2429327964782715, 'learning_rate': 4.936842105263158e-05, 'epoch': 0.06}\n",
      "{'loss': 0.9731, 'grad_norm': 2.232450246810913, 'learning_rate': 4.915789473684211e-05, 'epoch': 0.08}\n",
      "{'loss': 0.9503, 'grad_norm': 1.6966092586517334, 'learning_rate': 4.8947368421052635e-05, 'epoch': 0.11}\n",
      "{'loss': 0.8872, 'grad_norm': 2.3492214679718018, 'learning_rate': 4.873684210526316e-05, 'epoch': 0.13}\n",
      "{'loss': 0.8923, 'grad_norm': 2.431483507156372, 'learning_rate': 4.852631578947369e-05, 'epoch': 0.15}\n",
      "{'loss': 0.9074, 'grad_norm': 3.8799538612365723, 'learning_rate': 4.8315789473684215e-05, 'epoch': 0.17}\n",
      "{'loss': 0.8685, 'grad_norm': 1.9571664333343506, 'learning_rate': 4.8105263157894735e-05, 'epoch': 0.19}\n",
      "{'loss': 0.9015, 'grad_norm': 1.5196362733840942, 'learning_rate': 4.789473684210526e-05, 'epoch': 0.21}\n",
      "{'loss': 0.8699, 'grad_norm': 2.493363618850708, 'learning_rate': 4.7684210526315794e-05, 'epoch': 0.23}\n",
      "{'loss': 0.8342, 'grad_norm': 4.562923908233643, 'learning_rate': 4.747368421052632e-05, 'epoch': 0.25}\n",
      "{'loss': 0.9335, 'grad_norm': 5.105982303619385, 'learning_rate': 4.726315789473684e-05, 'epoch': 0.27}\n",
      "{'loss': 0.9088, 'grad_norm': 2.322007894515991, 'learning_rate': 4.705263157894737e-05, 'epoch': 0.29}\n",
      "{'loss': 0.9003, 'grad_norm': 3.03918719291687, 'learning_rate': 4.68421052631579e-05, 'epoch': 0.32}\n",
      "{'loss': 0.8608, 'grad_norm': 1.8897042274475098, 'learning_rate': 4.663157894736842e-05, 'epoch': 0.34}\n",
      "{'loss': 0.8331, 'grad_norm': 4.384970188140869, 'learning_rate': 4.642105263157895e-05, 'epoch': 0.36}\n",
      "{'loss': 0.822, 'grad_norm': 2.424386501312256, 'learning_rate': 4.6210526315789473e-05, 'epoch': 0.38}\n",
      "{'loss': 0.8355, 'grad_norm': 5.130551815032959, 'learning_rate': 4.600000000000001e-05, 'epoch': 0.4}\n",
      "{'loss': 0.7929, 'grad_norm': 1.2708150148391724, 'learning_rate': 4.5789473684210527e-05, 'epoch': 0.42}\n",
      "{'loss': 0.8058, 'grad_norm': 4.44585657119751, 'learning_rate': 4.557894736842105e-05, 'epoch': 0.44}\n",
      "{'loss': 0.8181, 'grad_norm': 1.5803874731063843, 'learning_rate': 4.536842105263158e-05, 'epoch': 0.46}\n",
      "{'loss': 0.8467, 'grad_norm': 3.546190023422241, 'learning_rate': 4.515789473684211e-05, 'epoch': 0.48}\n",
      "{'loss': 0.8184, 'grad_norm': 1.9294873476028442, 'learning_rate': 4.494736842105263e-05, 'epoch': 0.51}\n",
      "{'loss': 0.8114, 'grad_norm': 1.7795511484146118, 'learning_rate': 4.473684210526316e-05, 'epoch': 0.53}\n",
      "{'loss': 0.7635, 'grad_norm': 3.1863253116607666, 'learning_rate': 4.4526315789473686e-05, 'epoch': 0.55}\n",
      "{'loss': 0.7522, 'grad_norm': 1.7601683139801025, 'learning_rate': 4.431578947368421e-05, 'epoch': 0.57}\n",
      "{'loss': 0.7918, 'grad_norm': 3.064286708831787, 'learning_rate': 4.410526315789474e-05, 'epoch': 0.59}\n",
      "{'loss': 0.7907, 'grad_norm': 2.470503091812134, 'learning_rate': 4.3894736842105266e-05, 'epoch': 0.61}\n",
      "{'loss': 0.77, 'grad_norm': 4.170296669006348, 'learning_rate': 4.368421052631579e-05, 'epoch': 0.63}\n",
      "{'loss': 0.737, 'grad_norm': 2.6114237308502197, 'learning_rate': 4.347368421052632e-05, 'epoch': 0.65}\n",
      "{'loss': 0.7776, 'grad_norm': 2.69838547706604, 'learning_rate': 4.3263157894736845e-05, 'epoch': 0.67}\n",
      "{'loss': 0.774, 'grad_norm': 1.9901028871536255, 'learning_rate': 4.305263157894737e-05, 'epoch': 0.69}\n",
      "{'loss': 0.8001, 'grad_norm': 3.3192360401153564, 'learning_rate': 4.284210526315789e-05, 'epoch': 0.72}\n",
      "{'loss': 0.7474, 'grad_norm': 3.143599510192871, 'learning_rate': 4.2631578947368425e-05, 'epoch': 0.74}\n",
      "{'loss': 0.7839, 'grad_norm': 2.1097095012664795, 'learning_rate': 4.242105263157895e-05, 'epoch': 0.76}\n",
      "{'loss': 0.8011, 'grad_norm': 2.116243839263916, 'learning_rate': 4.221052631578948e-05, 'epoch': 0.78}\n",
      "{'loss': 0.7104, 'grad_norm': 2.3227808475494385, 'learning_rate': 4.2e-05, 'epoch': 0.8}\n",
      "{'loss': 0.7524, 'grad_norm': 2.172853469848633, 'learning_rate': 4.178947368421053e-05, 'epoch': 0.82}\n",
      "{'loss': 0.7523, 'grad_norm': 1.7293164730072021, 'learning_rate': 4.157894736842106e-05, 'epoch': 0.84}\n",
      "{'loss': 0.7742, 'grad_norm': 4.434980869293213, 'learning_rate': 4.136842105263158e-05, 'epoch': 0.86}\n",
      "{'loss': 0.7356, 'grad_norm': 4.985367298126221, 'learning_rate': 4.1157894736842104e-05, 'epoch': 0.88}\n",
      "{'loss': 0.8282, 'grad_norm': 2.029001235961914, 'learning_rate': 4.094736842105264e-05, 'epoch': 0.91}\n",
      "{'loss': 0.7417, 'grad_norm': 2.5630686283111572, 'learning_rate': 4.0736842105263164e-05, 'epoch': 0.93}\n",
      "{'loss': 0.7152, 'grad_norm': 4.389596462249756, 'learning_rate': 4.0526315789473684e-05, 'epoch': 0.95}\n",
      "{'loss': 0.7571, 'grad_norm': 2.985710859298706, 'learning_rate': 4.031578947368421e-05, 'epoch': 0.97}\n",
      "{'loss': 0.7274, 'grad_norm': 5.2239861488342285, 'learning_rate': 4.010526315789474e-05, 'epoch': 0.99}\n"
     ]
    },
    {
     "data": {
      "application/vnd.jupyter.widget-view+json": {
       "model_id": "97c97cf607074384804eb91366844988",
       "version_major": 2,
       "version_minor": 0
      },
      "text/plain": [
       "  0%|          | 0/159 [00:00<?, ?it/s]"
      ]
     },
     "metadata": {},
     "output_type": "display_data"
    },
    {
     "name": "stdout",
     "output_type": "stream",
     "text": [
      "{'eval_loss': 0.7472153902053833, 'eval_precision': 0.9633244341117913, 'eval_recall': 0.5703017439922229, 'eval_f1': 0.6998745487747399, 'eval_runtime': 23.7411, 'eval_samples_per_second': 106.566, 'eval_steps_per_second': 6.697, 'epoch': 1.0}\n",
      "{'loss': 0.6868, 'grad_norm': 5.257248878479004, 'learning_rate': 3.989473684210526e-05, 'epoch': 1.01}\n",
      "{'loss': 0.7018, 'grad_norm': 4.333714962005615, 'learning_rate': 3.968421052631579e-05, 'epoch': 1.03}\n",
      "{'loss': 0.6633, 'grad_norm': 2.3415427207946777, 'learning_rate': 3.9473684210526316e-05, 'epoch': 1.05}\n",
      "{'loss': 0.6202, 'grad_norm': 2.0143635272979736, 'learning_rate': 3.926315789473684e-05, 'epoch': 1.07}\n",
      "{'loss': 0.685, 'grad_norm': 1.7501680850982666, 'learning_rate': 3.905263157894737e-05, 'epoch': 1.09}\n",
      "{'loss': 0.6462, 'grad_norm': 3.188443422317505, 'learning_rate': 3.8842105263157896e-05, 'epoch': 1.12}\n",
      "{'loss': 0.6193, 'grad_norm': 2.231539249420166, 'learning_rate': 3.863157894736842e-05, 'epoch': 1.14}\n",
      "{'loss': 0.6616, 'grad_norm': 3.483867883682251, 'learning_rate': 3.842105263157895e-05, 'epoch': 1.16}\n",
      "{'loss': 0.6378, 'grad_norm': 2.590467929840088, 'learning_rate': 3.8210526315789476e-05, 'epoch': 1.18}\n",
      "{'loss': 0.6767, 'grad_norm': 3.291018009185791, 'learning_rate': 3.8e-05, 'epoch': 1.2}\n",
      "{'loss': 0.6789, 'grad_norm': 4.212820529937744, 'learning_rate': 3.778947368421053e-05, 'epoch': 1.22}\n",
      "{'loss': 0.6901, 'grad_norm': 5.554215908050537, 'learning_rate': 3.7578947368421055e-05, 'epoch': 1.24}\n",
      "{'loss': 0.6651, 'grad_norm': 6.847480297088623, 'learning_rate': 3.736842105263158e-05, 'epoch': 1.26}\n",
      "{'loss': 0.6707, 'grad_norm': 3.6892669200897217, 'learning_rate': 3.715789473684211e-05, 'epoch': 1.28}\n",
      "{'loss': 0.6162, 'grad_norm': 6.309474945068359, 'learning_rate': 3.6947368421052635e-05, 'epoch': 1.31}\n",
      "{'loss': 0.6612, 'grad_norm': 2.795691728591919, 'learning_rate': 3.673684210526316e-05, 'epoch': 1.33}\n",
      "{'loss': 0.6848, 'grad_norm': 2.763979911804199, 'learning_rate': 3.652631578947369e-05, 'epoch': 1.35}\n",
      "{'loss': 0.6456, 'grad_norm': 2.1893157958984375, 'learning_rate': 3.6315789473684214e-05, 'epoch': 1.37}\n",
      "{'loss': 0.6775, 'grad_norm': 3.001852035522461, 'learning_rate': 3.6105263157894734e-05, 'epoch': 1.39}\n",
      "{'loss': 0.6332, 'grad_norm': 3.5195305347442627, 'learning_rate': 3.589473684210527e-05, 'epoch': 1.41}\n",
      "{'loss': 0.6262, 'grad_norm': 3.335247039794922, 'learning_rate': 3.5684210526315794e-05, 'epoch': 1.43}\n",
      "{'loss': 0.6348, 'grad_norm': 3.592775583267212, 'learning_rate': 3.547368421052632e-05, 'epoch': 1.45}\n",
      "{'loss': 0.6502, 'grad_norm': 4.520085334777832, 'learning_rate': 3.526315789473684e-05, 'epoch': 1.47}\n",
      "{'loss': 0.6471, 'grad_norm': 3.6610262393951416, 'learning_rate': 3.505263157894737e-05, 'epoch': 1.49}\n",
      "{'loss': 0.6337, 'grad_norm': 3.106847047805786, 'learning_rate': 3.48421052631579e-05, 'epoch': 1.52}\n",
      "{'loss': 0.6478, 'grad_norm': 2.1394577026367188, 'learning_rate': 3.463157894736842e-05, 'epoch': 1.54}\n",
      "{'loss': 0.623, 'grad_norm': 2.6466164588928223, 'learning_rate': 3.442105263157895e-05, 'epoch': 1.56}\n",
      "{'loss': 0.6496, 'grad_norm': 7.0577592849731445, 'learning_rate': 3.421052631578947e-05, 'epoch': 1.58}\n",
      "{'loss': 0.5951, 'grad_norm': 2.7157347202301025, 'learning_rate': 3.4000000000000007e-05, 'epoch': 1.6}\n",
      "{'loss': 0.6359, 'grad_norm': 3.0469810962677, 'learning_rate': 3.3789473684210526e-05, 'epoch': 1.62}\n",
      "{'loss': 0.6517, 'grad_norm': 5.599617958068848, 'learning_rate': 3.357894736842105e-05, 'epoch': 1.64}\n",
      "{'loss': 0.6303, 'grad_norm': 3.6172854900360107, 'learning_rate': 3.336842105263158e-05, 'epoch': 1.66}\n",
      "{'loss': 0.6279, 'grad_norm': 3.0134923458099365, 'learning_rate': 3.3157894736842106e-05, 'epoch': 1.68}\n",
      "{'loss': 0.6108, 'grad_norm': 3.6069862842559814, 'learning_rate': 3.294736842105263e-05, 'epoch': 1.71}\n",
      "{'loss': 0.5869, 'grad_norm': 2.4936864376068115, 'learning_rate': 3.273684210526316e-05, 'epoch': 1.73}\n",
      "{'loss': 0.6363, 'grad_norm': 2.673206329345703, 'learning_rate': 3.2526315789473686e-05, 'epoch': 1.75}\n",
      "{'loss': 0.615, 'grad_norm': 3.298027276992798, 'learning_rate': 3.231578947368421e-05, 'epoch': 1.77}\n",
      "{'loss': 0.6144, 'grad_norm': 2.4600470066070557, 'learning_rate': 3.210526315789474e-05, 'epoch': 1.79}\n",
      "{'loss': 0.6219, 'grad_norm': 4.186765670776367, 'learning_rate': 3.1894736842105265e-05, 'epoch': 1.81}\n",
      "{'loss': 0.5889, 'grad_norm': 5.816470623016357, 'learning_rate': 3.168421052631579e-05, 'epoch': 1.83}\n",
      "{'loss': 0.6111, 'grad_norm': 3.6444873809814453, 'learning_rate': 3.147368421052632e-05, 'epoch': 1.85}\n",
      "{'loss': 0.6183, 'grad_norm': 4.211920738220215, 'learning_rate': 3.1263157894736845e-05, 'epoch': 1.87}\n",
      "{'loss': 0.6122, 'grad_norm': 2.5203821659088135, 'learning_rate': 3.105263157894737e-05, 'epoch': 1.89}\n",
      "{'loss': 0.662, 'grad_norm': 2.559304714202881, 'learning_rate': 3.084210526315789e-05, 'epoch': 1.92}\n",
      "{'loss': 0.6138, 'grad_norm': 2.404756546020508, 'learning_rate': 3.0631578947368425e-05, 'epoch': 1.94}\n",
      "{'loss': 0.6134, 'grad_norm': 2.5288593769073486, 'learning_rate': 3.042105263157895e-05, 'epoch': 1.96}\n",
      "{'loss': 0.6255, 'grad_norm': 3.2338101863861084, 'learning_rate': 3.021052631578947e-05, 'epoch': 1.98}\n",
      "{'loss': 0.6064, 'grad_norm': 18.466289520263672, 'learning_rate': 3e-05, 'epoch': 2.0}\n"
     ]
    },
    {
     "data": {
      "application/vnd.jupyter.widget-view+json": {
       "model_id": "1ea46d2ec2854b98ae1991fc535b76fe",
       "version_major": 2,
       "version_minor": 0
      },
      "text/plain": [
       "  0%|          | 0/159 [00:00<?, ?it/s]"
      ]
     },
     "metadata": {},
     "output_type": "display_data"
    },
    {
     "name": "stdout",
     "output_type": "stream",
     "text": [
      "{'eval_loss': 0.6466888189315796, 'eval_precision': 0.963615512461816, 'eval_recall': 0.7403339873622277, 'eval_f1': 0.8256723073090876, 'eval_runtime': 23.5693, 'eval_samples_per_second': 107.343, 'eval_steps_per_second': 6.746, 'epoch': 2.0}\n",
      "{'loss': 0.5715, 'grad_norm': 2.513854742050171, 'learning_rate': 2.9789473684210527e-05, 'epoch': 2.02}\n",
      "{'loss': 0.5465, 'grad_norm': 3.4294283390045166, 'learning_rate': 2.9578947368421057e-05, 'epoch': 2.04}\n",
      "{'loss': 0.4837, 'grad_norm': 2.516517162322998, 'learning_rate': 2.9368421052631577e-05, 'epoch': 2.06}\n",
      "{'loss': 0.4961, 'grad_norm': 4.732661247253418, 'learning_rate': 2.9157894736842107e-05, 'epoch': 2.08}\n",
      "{'loss': 0.5287, 'grad_norm': 2.402632474899292, 'learning_rate': 2.8947368421052634e-05, 'epoch': 2.11}\n",
      "{'loss': 0.4964, 'grad_norm': 4.4954376220703125, 'learning_rate': 2.8736842105263163e-05, 'epoch': 2.13}\n",
      "{'loss': 0.4873, 'grad_norm': 3.4511630535125732, 'learning_rate': 2.8526315789473683e-05, 'epoch': 2.15}\n",
      "{'loss': 0.5296, 'grad_norm': 1.739414930343628, 'learning_rate': 2.8315789473684213e-05, 'epoch': 2.17}\n",
      "{'loss': 0.524, 'grad_norm': 2.893683433532715, 'learning_rate': 2.810526315789474e-05, 'epoch': 2.19}\n",
      "{'loss': 0.5316, 'grad_norm': 5.171851634979248, 'learning_rate': 2.7894736842105263e-05, 'epoch': 2.21}\n",
      "{'loss': 0.5051, 'grad_norm': 3.692537307739258, 'learning_rate': 2.768421052631579e-05, 'epoch': 2.23}\n",
      "{'loss': 0.4769, 'grad_norm': 4.579423427581787, 'learning_rate': 2.747368421052632e-05, 'epoch': 2.25}\n",
      "{'loss': 0.5138, 'grad_norm': 6.383230686187744, 'learning_rate': 2.7263157894736846e-05, 'epoch': 2.27}\n",
      "{'loss': 0.4983, 'grad_norm': 3.0854897499084473, 'learning_rate': 2.705263157894737e-05, 'epoch': 2.29}\n",
      "{'loss': 0.4571, 'grad_norm': 2.472198486328125, 'learning_rate': 2.6842105263157896e-05, 'epoch': 2.32}\n",
      "{'loss': 0.5154, 'grad_norm': 3.295194149017334, 'learning_rate': 2.6631578947368426e-05, 'epoch': 2.34}\n",
      "{'loss': 0.5051, 'grad_norm': 4.369271278381348, 'learning_rate': 2.6421052631578945e-05, 'epoch': 2.36}\n",
      "{'loss': 0.4857, 'grad_norm': 2.0364232063293457, 'learning_rate': 2.6210526315789475e-05, 'epoch': 2.38}\n",
      "{'loss': 0.5068, 'grad_norm': 3.2996857166290283, 'learning_rate': 2.6000000000000002e-05, 'epoch': 2.4}\n",
      "{'loss': 0.5363, 'grad_norm': 2.4651455879211426, 'learning_rate': 2.578947368421053e-05, 'epoch': 2.42}\n",
      "{'loss': 0.4945, 'grad_norm': 4.42396354675293, 'learning_rate': 2.557894736842105e-05, 'epoch': 2.44}\n",
      "{'loss': 0.4993, 'grad_norm': 3.4310264587402344, 'learning_rate': 2.536842105263158e-05, 'epoch': 2.46}\n",
      "{'loss': 0.4984, 'grad_norm': 2.324796676635742, 'learning_rate': 2.5157894736842108e-05, 'epoch': 2.48}\n",
      "{'loss': 0.4672, 'grad_norm': 2.58642578125, 'learning_rate': 2.4947368421052635e-05, 'epoch': 2.51}\n",
      "{'loss': 0.4706, 'grad_norm': 2.9670679569244385, 'learning_rate': 2.4736842105263158e-05, 'epoch': 2.53}\n",
      "{'loss': 0.5003, 'grad_norm': 2.6528332233428955, 'learning_rate': 2.4526315789473688e-05, 'epoch': 2.55}\n",
      "{'loss': 0.5088, 'grad_norm': 2.90777325630188, 'learning_rate': 2.431578947368421e-05, 'epoch': 2.57}\n",
      "{'loss': 0.4948, 'grad_norm': 3.608933687210083, 'learning_rate': 2.410526315789474e-05, 'epoch': 2.59}\n",
      "{'loss': 0.5278, 'grad_norm': 6.809834957122803, 'learning_rate': 2.3894736842105264e-05, 'epoch': 2.61}\n",
      "{'loss': 0.496, 'grad_norm': 4.056375503540039, 'learning_rate': 2.368421052631579e-05, 'epoch': 2.63}\n",
      "{'loss': 0.491, 'grad_norm': 3.2934796810150146, 'learning_rate': 2.3473684210526317e-05, 'epoch': 2.65}\n",
      "{'loss': 0.4628, 'grad_norm': 2.757301092147827, 'learning_rate': 2.3263157894736844e-05, 'epoch': 2.67}\n",
      "{'loss': 0.4969, 'grad_norm': 2.786041259765625, 'learning_rate': 2.305263157894737e-05, 'epoch': 2.69}\n",
      "{'loss': 0.5103, 'grad_norm': 3.2267982959747314, 'learning_rate': 2.2842105263157897e-05, 'epoch': 2.72}\n",
      "{'loss': 0.487, 'grad_norm': 2.8601789474487305, 'learning_rate': 2.2631578947368423e-05, 'epoch': 2.74}\n",
      "{'loss': 0.4871, 'grad_norm': 3.4286234378814697, 'learning_rate': 2.242105263157895e-05, 'epoch': 2.76}\n",
      "{'loss': 0.5152, 'grad_norm': 6.860898971557617, 'learning_rate': 2.2210526315789476e-05, 'epoch': 2.78}\n",
      "{'loss': 0.5028, 'grad_norm': 4.46295690536499, 'learning_rate': 2.2000000000000003e-05, 'epoch': 2.8}\n",
      "{'loss': 0.518, 'grad_norm': 8.39263916015625, 'learning_rate': 2.1789473684210526e-05, 'epoch': 2.82}\n",
      "{'loss': 0.5103, 'grad_norm': 2.3649368286132812, 'learning_rate': 2.1578947368421053e-05, 'epoch': 2.84}\n",
      "{'loss': 0.4911, 'grad_norm': 4.812928199768066, 'learning_rate': 2.136842105263158e-05, 'epoch': 2.86}\n",
      "{'loss': 0.5104, 'grad_norm': 2.3262746334075928, 'learning_rate': 2.1157894736842106e-05, 'epoch': 2.88}\n",
      "{'loss': 0.4926, 'grad_norm': 2.350309133529663, 'learning_rate': 2.0947368421052632e-05, 'epoch': 2.91}\n",
      "{'loss': 0.506, 'grad_norm': 3.5835158824920654, 'learning_rate': 2.073684210526316e-05, 'epoch': 2.93}\n",
      "{'loss': 0.486, 'grad_norm': 3.383767604827881, 'learning_rate': 2.0526315789473685e-05, 'epoch': 2.95}\n",
      "{'loss': 0.5178, 'grad_norm': 3.168179988861084, 'learning_rate': 2.0315789473684212e-05, 'epoch': 2.97}\n",
      "{'loss': 0.4952, 'grad_norm': 3.000910520553589, 'learning_rate': 2.010526315789474e-05, 'epoch': 2.99}\n"
     ]
    },
    {
     "data": {
      "application/vnd.jupyter.widget-view+json": {
       "model_id": "4d194fa4961d4851be32163e3a0de1f4",
       "version_major": 2,
       "version_minor": 0
      },
      "text/plain": [
       "  0%|          | 0/159 [00:00<?, ?it/s]"
      ]
     },
     "metadata": {},
     "output_type": "display_data"
    },
    {
     "name": "stdout",
     "output_type": "stream",
     "text": [
      "{'eval_loss': 0.6468543410301208, 'eval_precision': 0.9642791654128076, 'eval_recall': 0.7678833639988905, 'eval_f1': 0.8439081641854284, 'eval_runtime': 23.688, 'eval_samples_per_second': 106.805, 'eval_steps_per_second': 6.712, 'epoch': 3.0}\n",
      "{'loss': 0.454, 'grad_norm': 3.3531954288482666, 'learning_rate': 1.9894736842105265e-05, 'epoch': 3.01}\n",
      "{'loss': 0.4296, 'grad_norm': 4.837594509124756, 'learning_rate': 1.968421052631579e-05, 'epoch': 3.03}\n",
      "{'loss': 0.3924, 'grad_norm': 3.4070165157318115, 'learning_rate': 1.9473684210526315e-05, 'epoch': 3.05}\n",
      "{'loss': 0.3998, 'grad_norm': 2.933945894241333, 'learning_rate': 1.9263157894736845e-05, 'epoch': 3.07}\n",
      "{'loss': 0.3862, 'grad_norm': 2.8279061317443848, 'learning_rate': 1.9052631578947368e-05, 'epoch': 3.09}\n",
      "{'loss': 0.4691, 'grad_norm': 3.7143595218658447, 'learning_rate': 1.8842105263157894e-05, 'epoch': 3.12}\n",
      "{'loss': 0.432, 'grad_norm': 3.0434322357177734, 'learning_rate': 1.863157894736842e-05, 'epoch': 3.14}\n",
      "{'loss': 0.4159, 'grad_norm': 3.690943717956543, 'learning_rate': 1.8421052631578947e-05, 'epoch': 3.16}\n",
      "{'loss': 0.3895, 'grad_norm': 3.7544727325439453, 'learning_rate': 1.8210526315789474e-05, 'epoch': 3.18}\n",
      "{'loss': 0.4355, 'grad_norm': 3.949061870574951, 'learning_rate': 1.8e-05, 'epoch': 3.2}\n",
      "{'loss': 0.3706, 'grad_norm': 3.413789749145508, 'learning_rate': 1.7789473684210527e-05, 'epoch': 3.22}\n",
      "{'loss': 0.4002, 'grad_norm': 6.944594383239746, 'learning_rate': 1.7578947368421054e-05, 'epoch': 3.24}\n",
      "{'loss': 0.396, 'grad_norm': 3.5050415992736816, 'learning_rate': 1.736842105263158e-05, 'epoch': 3.26}\n",
      "{'loss': 0.4132, 'grad_norm': 5.229426383972168, 'learning_rate': 1.7157894736842107e-05, 'epoch': 3.28}\n",
      "{'loss': 0.4104, 'grad_norm': 3.084975004196167, 'learning_rate': 1.694736842105263e-05, 'epoch': 3.31}\n",
      "{'loss': 0.4377, 'grad_norm': 2.711988687515259, 'learning_rate': 1.673684210526316e-05, 'epoch': 3.33}\n",
      "{'loss': 0.4106, 'grad_norm': 3.524397134780884, 'learning_rate': 1.6526315789473683e-05, 'epoch': 3.35}\n",
      "{'loss': 0.4333, 'grad_norm': 3.940958261489868, 'learning_rate': 1.6315789473684213e-05, 'epoch': 3.37}\n",
      "{'loss': 0.4257, 'grad_norm': 3.9459140300750732, 'learning_rate': 1.6105263157894736e-05, 'epoch': 3.39}\n",
      "{'loss': 0.4063, 'grad_norm': 4.538791179656982, 'learning_rate': 1.5894736842105266e-05, 'epoch': 3.41}\n",
      "{'loss': 0.4123, 'grad_norm': 6.974781513214111, 'learning_rate': 1.568421052631579e-05, 'epoch': 3.43}\n",
      "{'loss': 0.4423, 'grad_norm': 2.689805269241333, 'learning_rate': 1.5473684210526316e-05, 'epoch': 3.45}\n",
      "{'loss': 0.3956, 'grad_norm': 3.9522268772125244, 'learning_rate': 1.5263157894736842e-05, 'epoch': 3.47}\n",
      "{'loss': 0.4232, 'grad_norm': 3.775355100631714, 'learning_rate': 1.5052631578947369e-05, 'epoch': 3.49}\n",
      "{'loss': 0.4112, 'grad_norm': 2.2618257999420166, 'learning_rate': 1.4842105263157895e-05, 'epoch': 3.52}\n",
      "{'loss': 0.427, 'grad_norm': 4.848234176635742, 'learning_rate': 1.4631578947368422e-05, 'epoch': 3.54}\n",
      "{'loss': 0.3423, 'grad_norm': 2.8740203380584717, 'learning_rate': 1.4421052631578948e-05, 'epoch': 3.56}\n",
      "{'loss': 0.3845, 'grad_norm': 3.7523837089538574, 'learning_rate': 1.4210526315789475e-05, 'epoch': 3.58}\n",
      "{'loss': 0.4129, 'grad_norm': 2.7097182273864746, 'learning_rate': 1.4000000000000001e-05, 'epoch': 3.6}\n",
      "{'loss': 0.4, 'grad_norm': 3.9899282455444336, 'learning_rate': 1.3789473684210526e-05, 'epoch': 3.62}\n",
      "{'loss': 0.4223, 'grad_norm': 6.054190635681152, 'learning_rate': 1.3578947368421053e-05, 'epoch': 3.64}\n",
      "{'loss': 0.404, 'grad_norm': 3.410489559173584, 'learning_rate': 1.336842105263158e-05, 'epoch': 3.66}\n",
      "{'loss': 0.4127, 'grad_norm': 2.7882213592529297, 'learning_rate': 1.3157894736842106e-05, 'epoch': 3.68}\n",
      "{'loss': 0.4173, 'grad_norm': 3.768138885498047, 'learning_rate': 1.2947368421052633e-05, 'epoch': 3.71}\n",
      "{'loss': 0.4217, 'grad_norm': 3.704280138015747, 'learning_rate': 1.2736842105263157e-05, 'epoch': 3.73}\n",
      "{'loss': 0.3924, 'grad_norm': 5.328567028045654, 'learning_rate': 1.2526315789473686e-05, 'epoch': 3.75}\n",
      "{'loss': 0.3799, 'grad_norm': 5.890963554382324, 'learning_rate': 1.231578947368421e-05, 'epoch': 3.77}\n",
      "{'loss': 0.375, 'grad_norm': 3.749795913696289, 'learning_rate': 1.2105263157894737e-05, 'epoch': 3.79}\n",
      "{'loss': 0.4615, 'grad_norm': 7.677309989929199, 'learning_rate': 1.1894736842105264e-05, 'epoch': 3.81}\n",
      "{'loss': 0.3931, 'grad_norm': 3.315798044204712, 'learning_rate': 1.168421052631579e-05, 'epoch': 3.83}\n",
      "{'loss': 0.4068, 'grad_norm': 5.0460028648376465, 'learning_rate': 1.1473684210526315e-05, 'epoch': 3.85}\n",
      "{'loss': 0.4195, 'grad_norm': 3.563227415084839, 'learning_rate': 1.1263157894736842e-05, 'epoch': 3.87}\n",
      "{'loss': 0.4026, 'grad_norm': 3.2341980934143066, 'learning_rate': 1.1052631578947368e-05, 'epoch': 3.89}\n",
      "{'loss': 0.3641, 'grad_norm': 3.7484564781188965, 'learning_rate': 1.0842105263157895e-05, 'epoch': 3.92}\n",
      "{'loss': 0.3877, 'grad_norm': 2.8510427474975586, 'learning_rate': 1.0631578947368421e-05, 'epoch': 3.94}\n",
      "{'loss': 0.4337, 'grad_norm': 3.3182876110076904, 'learning_rate': 1.0421052631578948e-05, 'epoch': 3.96}\n",
      "{'loss': 0.4014, 'grad_norm': 3.326378583908081, 'learning_rate': 1.0210526315789474e-05, 'epoch': 3.98}\n",
      "{'loss': 0.4174, 'grad_norm': 12.354959487915039, 'learning_rate': 1e-05, 'epoch': 4.0}\n"
     ]
    },
    {
     "data": {
      "application/vnd.jupyter.widget-view+json": {
       "model_id": "5d89841ce38a41a4839348df0818c53b",
       "version_major": 2,
       "version_minor": 0
      },
      "text/plain": [
       "  0%|          | 0/159 [00:00<?, ?it/s]"
      ]
     },
     "metadata": {},
     "output_type": "display_data"
    },
    {
     "name": "stdout",
     "output_type": "stream",
     "text": [
      "{'eval_loss': 0.6502772569656372, 'eval_precision': 0.9646733348160327, 'eval_recall': 0.7781455099771217, 'eval_f1': 0.8502739387038362, 'eval_runtime': 23.5734, 'eval_samples_per_second': 107.324, 'eval_steps_per_second': 6.745, 'epoch': 4.0}\n",
      "{'loss': 0.3658, 'grad_norm': 3.1791958808898926, 'learning_rate': 9.789473684210526e-06, 'epoch': 4.02}\n",
      "{'loss': 0.3516, 'grad_norm': 2.1258790493011475, 'learning_rate': 9.578947368421052e-06, 'epoch': 4.04}\n",
      "{'loss': 0.355, 'grad_norm': 2.903580665588379, 'learning_rate': 9.368421052631579e-06, 'epoch': 4.06}\n",
      "{'loss': 0.3494, 'grad_norm': 4.085094928741455, 'learning_rate': 9.157894736842105e-06, 'epoch': 4.08}\n",
      "{'loss': 0.3428, 'grad_norm': 3.8012969493865967, 'learning_rate': 8.947368421052632e-06, 'epoch': 4.11}\n",
      "{'loss': 0.3662, 'grad_norm': 8.474578857421875, 'learning_rate': 8.736842105263158e-06, 'epoch': 4.13}\n",
      "{'loss': 0.3259, 'grad_norm': 2.6752471923828125, 'learning_rate': 8.526315789473685e-06, 'epoch': 4.15}\n",
      "{'loss': 0.3739, 'grad_norm': 4.2889404296875, 'learning_rate': 8.315789473684212e-06, 'epoch': 4.17}\n",
      "{'loss': 0.3886, 'grad_norm': 4.786863803863525, 'learning_rate': 8.105263157894736e-06, 'epoch': 4.19}\n",
      "{'loss': 0.3743, 'grad_norm': 5.3072190284729, 'learning_rate': 7.894736842105263e-06, 'epoch': 4.21}\n",
      "{'loss': 0.3107, 'grad_norm': 2.806446075439453, 'learning_rate': 7.68421052631579e-06, 'epoch': 4.23}\n",
      "{'loss': 0.3158, 'grad_norm': 8.271768569946289, 'learning_rate': 7.473684210526316e-06, 'epoch': 4.25}\n",
      "{'loss': 0.362, 'grad_norm': 2.30454421043396, 'learning_rate': 7.2631578947368426e-06, 'epoch': 4.27}\n",
      "{'loss': 0.3614, 'grad_norm': 3.956005096435547, 'learning_rate': 7.052631578947369e-06, 'epoch': 4.29}\n",
      "{'loss': 0.361, 'grad_norm': 6.148907661437988, 'learning_rate': 6.842105263157896e-06, 'epoch': 4.32}\n",
      "{'loss': 0.3442, 'grad_norm': 6.625237941741943, 'learning_rate': 6.631578947368422e-06, 'epoch': 4.34}\n",
      "{'loss': 0.3477, 'grad_norm': 3.0715391635894775, 'learning_rate': 6.421052631578947e-06, 'epoch': 4.36}\n",
      "{'loss': 0.3531, 'grad_norm': 3.77846097946167, 'learning_rate': 6.2105263157894745e-06, 'epoch': 4.38}\n",
      "{'loss': 0.366, 'grad_norm': 2.6876420974731445, 'learning_rate': 6e-06, 'epoch': 4.4}\n",
      "{'loss': 0.3246, 'grad_norm': 4.31548547744751, 'learning_rate': 5.789473684210527e-06, 'epoch': 4.42}\n",
      "{'loss': 0.34, 'grad_norm': 5.78385066986084, 'learning_rate': 5.578947368421053e-06, 'epoch': 4.44}\n",
      "{'loss': 0.3369, 'grad_norm': 6.527111053466797, 'learning_rate': 5.36842105263158e-06, 'epoch': 4.46}\n",
      "{'loss': 0.3722, 'grad_norm': 5.3848958015441895, 'learning_rate': 5.1578947368421055e-06, 'epoch': 4.48}\n",
      "{'loss': 0.3359, 'grad_norm': 4.040649890899658, 'learning_rate': 4.947368421052632e-06, 'epoch': 4.51}\n",
      "{'loss': 0.3813, 'grad_norm': 3.4426865577697754, 'learning_rate': 4.736842105263159e-06, 'epoch': 4.53}\n",
      "{'loss': 0.3252, 'grad_norm': 3.247422933578491, 'learning_rate': 4.526315789473685e-06, 'epoch': 4.55}\n",
      "{'loss': 0.3279, 'grad_norm': 5.167257308959961, 'learning_rate': 4.315789473684211e-06, 'epoch': 4.57}\n",
      "{'loss': 0.3553, 'grad_norm': 3.158599853515625, 'learning_rate': 4.105263157894737e-06, 'epoch': 4.59}\n",
      "{'loss': 0.3257, 'grad_norm': 2.6987500190734863, 'learning_rate': 3.894736842105264e-06, 'epoch': 4.61}\n",
      "{'loss': 0.326, 'grad_norm': 3.2173819541931152, 'learning_rate': 3.6842105263157892e-06, 'epoch': 4.63}\n",
      "{'loss': 0.3511, 'grad_norm': 6.3694329261779785, 'learning_rate': 3.4736842105263158e-06, 'epoch': 4.65}\n",
      "{'loss': 0.332, 'grad_norm': 3.4178359508514404, 'learning_rate': 3.2631578947368423e-06, 'epoch': 4.67}\n",
      "{'loss': 0.374, 'grad_norm': 5.654970645904541, 'learning_rate': 3.0526315789473684e-06, 'epoch': 4.69}\n",
      "{'loss': 0.3225, 'grad_norm': 3.432432174682617, 'learning_rate': 2.842105263157895e-06, 'epoch': 4.72}\n",
      "{'loss': 0.3088, 'grad_norm': 2.726346015930176, 'learning_rate': 2.631578947368421e-06, 'epoch': 4.74}\n",
      "{'loss': 0.3473, 'grad_norm': 3.6226320266723633, 'learning_rate': 2.4210526315789477e-06, 'epoch': 4.76}\n",
      "{'loss': 0.4061, 'grad_norm': 6.123791217803955, 'learning_rate': 2.2105263157894738e-06, 'epoch': 4.78}\n",
      "{'loss': 0.3608, 'grad_norm': 4.472905158996582, 'learning_rate': 2.0000000000000003e-06, 'epoch': 4.8}\n",
      "{'loss': 0.3469, 'grad_norm': 4.8311991691589355, 'learning_rate': 1.7894736842105262e-06, 'epoch': 4.82}\n",
      "{'loss': 0.3563, 'grad_norm': 3.1163759231567383, 'learning_rate': 1.5789473684210528e-06, 'epoch': 4.84}\n",
      "{'loss': 0.3507, 'grad_norm': 3.8905913829803467, 'learning_rate': 1.3684210526315791e-06, 'epoch': 4.86}\n",
      "{'loss': 0.3295, 'grad_norm': 3.1981728076934814, 'learning_rate': 1.1578947368421055e-06, 'epoch': 4.88}\n",
      "{'loss': 0.3435, 'grad_norm': 3.95129132270813, 'learning_rate': 9.473684210526317e-07, 'epoch': 4.91}\n",
      "{'loss': 0.317, 'grad_norm': 2.9761388301849365, 'learning_rate': 7.368421052631579e-07, 'epoch': 4.93}\n",
      "{'loss': 0.3712, 'grad_norm': 9.98124885559082, 'learning_rate': 5.263157894736843e-07, 'epoch': 4.95}\n",
      "{'loss': 0.3461, 'grad_norm': 4.126020431518555, 'learning_rate': 3.1578947368421055e-07, 'epoch': 4.97}\n",
      "{'loss': 0.3229, 'grad_norm': 4.205491065979004, 'learning_rate': 1.0526315789473685e-07, 'epoch': 4.99}\n"
     ]
    },
    {
     "data": {
      "application/vnd.jupyter.widget-view+json": {
       "model_id": "270f764bb31a4538aa968d4965de3375",
       "version_major": 2,
       "version_minor": 0
      },
      "text/plain": [
       "  0%|          | 0/159 [00:00<?, ?it/s]"
      ]
     },
     "metadata": {},
     "output_type": "display_data"
    },
    {
     "name": "stdout",
     "output_type": "stream",
     "text": [
      "{'eval_loss': 0.6989627480506897, 'eval_precision': 0.9647539970474049, 'eval_recall': 0.7879673952599446, 'eval_f1': 0.8564793270314188, 'eval_runtime': 23.8397, 'eval_samples_per_second': 106.126, 'eval_steps_per_second': 6.67, 'epoch': 5.0}\n",
      "{'train_runtime': 996.8003, 'train_samples_per_second': 38.062, 'train_steps_per_second': 2.383, 'train_loss': 0.5467033588509811, 'epoch': 5.0}\n"
     ]
    },
    {
     "data": {
      "text/plain": [
       "TrainOutput(global_step=2375, training_loss=0.5467033588509811, metrics={'train_runtime': 996.8003, 'train_samples_per_second': 38.062, 'train_steps_per_second': 2.383, 'total_flos': 9914226348257280.0, 'train_loss': 0.5467033588509811, 'epoch': 5.0})"
      ]
     },
     "execution_count": 73,
     "metadata": {},
     "output_type": "execute_result"
    }
   ],
   "source": [
    "model3 = AutoModelForTokenClassification.from_pretrained(\n",
    "    \"bert-base-uncased\",\n",
    "    num_labels=num_labels,\n",
    "    id2label=id_to_label,\n",
    "    label2id=label_to_id\n",
    ")\n",
    "tokenizer = AutoTokenizer.from_pretrained(\"bert-base-uncased\")\n",
    "\n",
    "training_args = TrainingArguments(\n",
    "    output_dir=\"./results_3\", \n",
    "    evaluation_strategy=\"epoch\",\n",
    "    save_strategy=\"epoch\",\n",
    "    learning_rate=5e-5,\n",
    "    per_device_train_batch_size=16,\n",
    "    per_device_eval_batch_size=16,\n",
    "    num_train_epochs=5,\n",
    "    weight_decay=0.01,\n",
    "    logging_dir=\"./logs\",\n",
    "    logging_steps=10,\n",
    "    save_total_limit=2,\n",
    "    load_best_model_at_end=True,\n",
    "    report_to=[]\n",
    ")\n",
    "\n",
    "trainer = WeightedLossTrainer(\n",
    "    model=model3,\n",
    "    args=training_args,\n",
    "    train_dataset=train_dataset,\n",
    "    eval_dataset=val_dataset,\n",
    "    tokenizer=tokenizer,\n",
    "    compute_metrics=compute_metrics, \n",
    ")\n",
    "\n",
    "trainer.train()"
   ]
  },
  {
   "cell_type": "code",
   "execution_count": 74,
   "metadata": {},
   "outputs": [
    {
     "data": {
      "text/html": [
       "<div>\n",
       "<style scoped>\n",
       "    .dataframe tbody tr th:only-of-type {\n",
       "        vertical-align: middle;\n",
       "    }\n",
       "\n",
       "    .dataframe tbody tr th {\n",
       "        vertical-align: top;\n",
       "    }\n",
       "\n",
       "    .dataframe thead th {\n",
       "        text-align: right;\n",
       "    }\n",
       "</style>\n",
       "<table border=\"1\" class=\"dataframe\">\n",
       "  <thead>\n",
       "    <tr style=\"text-align: right;\">\n",
       "      <th></th>\n",
       "      <th>eval_precision</th>\n",
       "      <th>eval_recall</th>\n",
       "      <th>eval_f1</th>\n",
       "    </tr>\n",
       "  </thead>\n",
       "  <tbody>\n",
       "    <tr>\n",
       "      <th>47</th>\n",
       "      <td>0.963324</td>\n",
       "      <td>0.570302</td>\n",
       "      <td>0.699875</td>\n",
       "    </tr>\n",
       "    <tr>\n",
       "      <th>96</th>\n",
       "      <td>0.963616</td>\n",
       "      <td>0.740334</td>\n",
       "      <td>0.825672</td>\n",
       "    </tr>\n",
       "    <tr>\n",
       "      <th>144</th>\n",
       "      <td>0.964279</td>\n",
       "      <td>0.767883</td>\n",
       "      <td>0.843908</td>\n",
       "    </tr>\n",
       "    <tr>\n",
       "      <th>193</th>\n",
       "      <td>0.964673</td>\n",
       "      <td>0.778146</td>\n",
       "      <td>0.850274</td>\n",
       "    </tr>\n",
       "    <tr>\n",
       "      <th>241</th>\n",
       "      <td>0.964754</td>\n",
       "      <td>0.787967</td>\n",
       "      <td>0.856479</td>\n",
       "    </tr>\n",
       "  </tbody>\n",
       "</table>\n",
       "</div>"
      ],
      "text/plain": [
       "     eval_precision  eval_recall   eval_f1\n",
       "47         0.963324     0.570302  0.699875\n",
       "96         0.963616     0.740334  0.825672\n",
       "144        0.964279     0.767883  0.843908\n",
       "193        0.964673     0.778146  0.850274\n",
       "241        0.964754     0.787967  0.856479"
      ]
     },
     "execution_count": 74,
     "metadata": {},
     "output_type": "execute_result"
    }
   ],
   "source": [
    "training_metrics = trainer.state.log_history\n",
    "metrics_df = pd.DataFrame(training_metrics)\n",
    "eval_metrics_df = metrics_df[metrics_df['eval_loss'].notna()]\n",
    "eval_metrics_df[['eval_precision', 'eval_recall', 'eval_f1']]"
   ]
  },
  {
   "cell_type": "code",
   "execution_count": null,
   "metadata": {},
   "outputs": [
    {
     "data": {
      "image/png": "[encoded data removed]",
      "text/plain": [
       "<Figure size 800x600 with 1 Axes>"
      ]
     },
     "metadata": {},
     "output_type": "display_data"
    }
   ],
   "source": [
    "valid_loss_metrics = metrics_df[['epoch', 'loss']].dropna()\n",
    "\n",
    "plt.figure(figsize=(8, 6))\n",
    "plt.plot(valid_loss_metrics['epoch'], valid_loss_metrics['loss'], marker='o', label='Training Loss')\n",
    "plt.title('Training Loss vs. Epochs (Valid Loss Rows Only)')\n",
    "plt.xlabel('Epochs')\n",
    "plt.ylabel('Loss')\n",
    "plt.legend()\n",
    "plt.grid(True)\n",
    "plt.show()"
   ]
  },
  {
   "cell_type": "code",
   "execution_count": null,
   "metadata": {},
   "outputs": [],
   "source": [
    "model1_dir = './trained_model1'\n",
    "model2_dir = './trained_model2'\n",
    "model3_dir = './trained_model3'\n",
    "\n",
    "model.save_pretrained(model1_dir)\n",
    "model2.save_pretrained(model2_dir)\n",
    "model3.save_pretrained(model3_dir)"
   ]
  }
 ],
 "metadata": {
  "kernelspec": {
   "display_name": "Python 3",
   "language": "python",
   "name": "python3"
  },
  "language_info": {
   "codemirror_mode": {
    "name": "ipython",
    "version": 3
   },
   "file_extension": ".py",
   "mimetype": "text/x-python",
   "name": "python",
   "nbconvert_exporter": "python",
   "pygments_lexer": "ipython3",
   "version": "3.11.9"
  }
 },
 "nbformat": 4,
 "nbformat_minor": 2
}
