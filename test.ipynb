{
 "cells": [
  {
   "cell_type": "code",
   "execution_count": 1,
   "metadata": {},
   "outputs": [],
   "source": [
    "import pandas as pd\n",
    "from collections import defaultdict"
   ]
  },
  {
   "cell_type": "code",
   "execution_count": 17,
   "metadata": {},
   "outputs": [],
   "source": [
    "file_path = 'count_1w.txt'\n",
    "freq_dict = {}\n",
    "with open(file_path, 'r') as f:\n",
    "    for line in f:\n",
    "        parts = line.split()\n",
    "        freq_dict[parts[0]] = int(parts[1])"
   ]
  },
  {
   "cell_type": "code",
   "execution_count": 19,
   "metadata": {},
   "outputs": [
    {
     "data": {
      "text/plain": [
       "23135851162"
      ]
     },
     "execution_count": 19,
     "metadata": {},
     "output_type": "execute_result"
    }
   ],
   "source": [
    "freq_dict['the']"
   ]
  },
  {
   "cell_type": "code",
   "execution_count": 20,
   "metadata": {},
   "outputs": [],
   "source": [
    "def generate_candidates(word, dictionary):\n",
    "    letters = 'abcdefghijklmnopqrstuvwxyz'\n",
    "    splits = [(word[:i], word[i:]) for i in range(len(word) + 1)]\n",
    "    inserts = [L + c + R for L, R in splits for c in letters]\n",
    "    deletes = [L + R[1:] for L, R in splits if R]\n",
    "    replaces = [L + c + R[1:] for L, R in splits if R for c in letters]\n",
    "    transposes = [L + R[1] + R[0] + R[2:] for L, R in splits if len(R) > 1]\n",
    "    candidates = set(inserts + deletes + replaces + transposes)\n",
    "    return set(c for c in candidates if c in dictionary)"
   ]
  },
  {
   "cell_type": "code",
   "execution_count": 21,
   "metadata": {},
   "outputs": [
    {
     "data": {
      "text/plain": [
       "{'hellp', 'help', 'helpe', 'helps', 'helpt', 'helpu', 'helpy', 'hepp'}"
      ]
     },
     "execution_count": 21,
     "metadata": {},
     "output_type": "execute_result"
    }
   ],
   "source": [
    "\n",
    "generate_candidates('helpp', freq_dict)"
   ]
  },
  {
   "cell_type": "code",
   "execution_count": 23,
   "metadata": {},
   "outputs": [],
   "source": [
    "from collections import Counter\n",
    "\n",
    "def build_ngrams(corpus, n):\n",
    "    ngrams = defaultdict(Counter)\n",
    "    for order in range(1, n+1):\n",
    "        for i in range(len(corpus) - order + 1):\n",
    "            ngram = tuple(corpus[i:i + order - 1])\n",
    "            next_word = corpus[i + order - 1]\n",
    "            ngrams[ngram][next_word] += 1\n",
    "    return ngrams"
   ]
  },
  {
   "cell_type": "code",
   "execution_count": 27,
   "metadata": {},
   "outputs": [],
   "source": [
    "def build_ngram_model(corpus, n):\n",
    "    ngrams = defaultdict(Counter)\n",
    "    for order in range(1, n+1):\n",
    "        for i in range(len(corpus) - order + 1):\n",
    "            ngram = tuple(corpus[i:i + order - 1])\n",
    "            next_word = corpus[i + order - 1]\n",
    "            ngrams[ngram][next_word] += 1\n",
    "    return ngrams"
   ]
  },
  {
   "cell_type": "code",
   "execution_count": 29,
   "metadata": {},
   "outputs": [
    {
     "data": {
      "text/plain": [
       "defaultdict(collections.Counter,\n",
       "            {(): Counter({'u': 2, 'y': 1, 'x': 1, 'a': 1, 'n': 1, 'm': 1}),\n",
       "             ('y',): Counter({'u': 1}),\n",
       "             ('u',): Counter({'x': 1, 'a': 1}),\n",
       "             ('x',): Counter({'u': 1}),\n",
       "             ('a',): Counter({'n': 1}),\n",
       "             ('n',): Counter({'m': 1}),\n",
       "             ('y', 'u'): Counter({'x': 1}),\n",
       "             ('u', 'x'): Counter({'u': 1}),\n",
       "             ('x', 'u'): Counter({'a': 1}),\n",
       "             ('u', 'a'): Counter({'n': 1}),\n",
       "             ('a', 'n'): Counter({'m': 1}),\n",
       "             ('y', 'u', 'x'): Counter({'u': 1}),\n",
       "             ('u', 'x', 'u'): Counter({'a': 1}),\n",
       "             ('x', 'u', 'a'): Counter({'n': 1}),\n",
       "             ('u', 'a', 'n'): Counter({'m': 1})})"
      ]
     },
     "execution_count": 29,
     "metadata": {},
     "output_type": "execute_result"
    }
   ],
   "source": [
    "build_ngram_model(\"yuxuanm\", 4)"
   ]
  },
  {
   "cell_type": "code",
   "execution_count": null,
   "metadata": {},
   "outputs": [],
   "source": []
  },
  {
   "cell_type": "code",
   "execution_count": 36,
   "metadata": {},
   "outputs": [
    {
     "name": "stdout",
     "output_type": "stream",
     "text": [
      "('y', 'u')\n",
      "('u', 'x')\n",
      "('x', 'u')\n",
      "('u', 'a')\n",
      "('a', 'n')\n"
     ]
    }
   ],
   "source": [
    "import nltk\n",
    "from nltk import ngrams\n",
    "for gram in ngrams(\"yuxuan\", n=2):\n",
    "    print(gram)"
   ]
  },
  {
   "cell_type": "code",
   "execution_count": 26,
   "metadata": {},
   "outputs": [
    {
     "data": {
      "text/plain": [
       "defaultdict(collections.Counter,\n",
       "            {(): Counter({'u': 2, 'Y': 1, 'x': 1, 'a': 1, 'n': 1}),\n",
       "             ('Y',): Counter({'u': 1}),\n",
       "             ('u',): Counter({'x': 1, 'a': 1}),\n",
       "             ('x',): Counter({'u': 1}),\n",
       "             ('a',): Counter({'n': 1}),\n",
       "             ('Y', 'u'): Counter({'x': 1}),\n",
       "             ('u', 'x'): Counter({'u': 1}),\n",
       "             ('x', 'u'): Counter({'a': 1}),\n",
       "             ('u', 'a'): Counter({'n': 1}),\n",
       "             ('Y', 'u', 'x'): Counter({'u': 1}),\n",
       "             ('u', 'x', 'u'): Counter({'a': 1}),\n",
       "             ('x', 'u', 'a'): Counter({'n': 1})})"
      ]
     },
     "execution_count": 26,
     "metadata": {},
     "output_type": "execute_result"
    }
   ],
   "source": [
    "build_ngrams(\"Yuxuan\", 4)"
   ]
  }
 ],
 "metadata": {
  "kernelspec": {
   "display_name": "Python 3",
   "language": "python",
   "name": "python3"
  },
  "language_info": {
   "codemirror_mode": {
    "name": "ipython",
    "version": 3
   },
   "file_extension": ".py",
   "mimetype": "text/x-python",
   "name": "python",
   "nbconvert_exporter": "python",
   "pygments_lexer": "ipython3",
   "version": "3.11.9"
  }
 },
 "nbformat": 4,
 "nbformat_minor": 2
}
